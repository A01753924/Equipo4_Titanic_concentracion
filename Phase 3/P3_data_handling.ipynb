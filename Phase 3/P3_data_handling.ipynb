{
 "cells": [
  {
   "cell_type": "markdown",
   "metadata": {},
   "source": [
    "## Equipo #4 | TC3006C.102\n",
    "\n",
    "- Karla Andrea Palma Villanueva (A01754270)\n",
    "- Viviana Alanis Fraige (A01236316)\n",
    "- David Fernando Armendariz Torres (A01570813)\n",
    "- Alan Alberto Mota Yescas (A01753924)\n",
    "- Adrián Chávez Morales (A01568679)\n",
    "- Jose Manuel Armendáriz Mena (A01197583)"
   ]
  },
  {
   "cell_type": "markdown",
   "metadata": {},
   "source": [
    "### Prepare Programming Environment"
   ]
  },
  {
   "cell_type": "code",
   "execution_count": 1,
   "metadata": {},
   "outputs": [],
   "source": [
    "# Import libraries\n",
    "import pandas as pd # Dataframe management\n",
    "import re # Regular expressions\n",
    "import numpy as np # Math \n",
    "import matplotlib.pyplot as plt # Plots\n",
    "import math # Math\n",
    "import random # Randomness\n",
    "\n",
    "# Ensure reproducibility\n",
    "seed = 66\n",
    "random.seed(seed)\n",
    "np.random.seed(seed)"
   ]
  },
  {
   "cell_type": "code",
   "execution_count": 2,
   "metadata": {},
   "outputs": [
    {
     "name": "stdout",
     "output_type": "stream",
     "text": [
      "<class 'pandas.core.frame.DataFrame'>\n",
      "RangeIndex: 891 entries, 0 to 890\n",
      "Data columns (total 12 columns):\n",
      " #   Column       Non-Null Count  Dtype  \n",
      "---  ------       --------------  -----  \n",
      " 0   PassengerId  891 non-null    int64  \n",
      " 1   Survived     891 non-null    int64  \n",
      " 2   Pclass       891 non-null    int64  \n",
      " 3   Name         891 non-null    object \n",
      " 4   Sex          891 non-null    object \n",
      " 5   Age          714 non-null    float64\n",
      " 6   SibSp        891 non-null    int64  \n",
      " 7   Parch        891 non-null    int64  \n",
      " 8   Ticket       891 non-null    object \n",
      " 9   Fare         891 non-null    float64\n",
      " 10  Cabin        204 non-null    object \n",
      " 11  Embarked     889 non-null    object \n",
      "dtypes: float64(2), int64(5), object(5)\n",
      "memory usage: 83.7+ KB\n"
     ]
    }
   ],
   "source": [
    "# Load dataset\n",
    "df = pd.read_csv(\"train.csv\")\n",
    "df.info()"
   ]
  },
  {
   "cell_type": "markdown",
   "metadata": {},
   "source": [
    "### Data Exploration / Cleansing / Preprocessing"
   ]
  },
  {
   "cell_type": "code",
   "execution_count": 3,
   "metadata": {},
   "outputs": [
    {
     "data": {
      "text/html": [
       "<div>\n",
       "<style scoped>\n",
       "    .dataframe tbody tr th:only-of-type {\n",
       "        vertical-align: middle;\n",
       "    }\n",
       "\n",
       "    .dataframe tbody tr th {\n",
       "        vertical-align: top;\n",
       "    }\n",
       "\n",
       "    .dataframe thead th {\n",
       "        text-align: right;\n",
       "    }\n",
       "</style>\n",
       "<table border=\"1\" class=\"dataframe\">\n",
       "  <thead>\n",
       "    <tr style=\"text-align: right;\">\n",
       "      <th></th>\n",
       "      <th>PassengerId</th>\n",
       "      <th>Survived</th>\n",
       "      <th>Pclass</th>\n",
       "      <th>Name</th>\n",
       "      <th>Sex</th>\n",
       "      <th>Age</th>\n",
       "      <th>SibSp</th>\n",
       "      <th>Parch</th>\n",
       "      <th>Ticket</th>\n",
       "      <th>Fare</th>\n",
       "      <th>Cabin</th>\n",
       "      <th>Embarked</th>\n",
       "    </tr>\n",
       "  </thead>\n",
       "  <tbody>\n",
       "    <tr>\n",
       "      <th>0</th>\n",
       "      <td>1</td>\n",
       "      <td>0</td>\n",
       "      <td>3</td>\n",
       "      <td>Braund, Mr. Owen Harris</td>\n",
       "      <td>male</td>\n",
       "      <td>22.0</td>\n",
       "      <td>1</td>\n",
       "      <td>0</td>\n",
       "      <td>A/5 21171</td>\n",
       "      <td>7.2500</td>\n",
       "      <td>NaN</td>\n",
       "      <td>S</td>\n",
       "    </tr>\n",
       "    <tr>\n",
       "      <th>1</th>\n",
       "      <td>2</td>\n",
       "      <td>1</td>\n",
       "      <td>1</td>\n",
       "      <td>Cumings, Mrs. John Bradley (Florence Briggs Th...</td>\n",
       "      <td>female</td>\n",
       "      <td>38.0</td>\n",
       "      <td>1</td>\n",
       "      <td>0</td>\n",
       "      <td>PC 17599</td>\n",
       "      <td>71.2833</td>\n",
       "      <td>C85</td>\n",
       "      <td>C</td>\n",
       "    </tr>\n",
       "    <tr>\n",
       "      <th>2</th>\n",
       "      <td>3</td>\n",
       "      <td>1</td>\n",
       "      <td>3</td>\n",
       "      <td>Heikkinen, Miss. Laina</td>\n",
       "      <td>female</td>\n",
       "      <td>26.0</td>\n",
       "      <td>0</td>\n",
       "      <td>0</td>\n",
       "      <td>STON/O2. 3101282</td>\n",
       "      <td>7.9250</td>\n",
       "      <td>NaN</td>\n",
       "      <td>S</td>\n",
       "    </tr>\n",
       "    <tr>\n",
       "      <th>3</th>\n",
       "      <td>4</td>\n",
       "      <td>1</td>\n",
       "      <td>1</td>\n",
       "      <td>Futrelle, Mrs. Jacques Heath (Lily May Peel)</td>\n",
       "      <td>female</td>\n",
       "      <td>35.0</td>\n",
       "      <td>1</td>\n",
       "      <td>0</td>\n",
       "      <td>113803</td>\n",
       "      <td>53.1000</td>\n",
       "      <td>C123</td>\n",
       "      <td>S</td>\n",
       "    </tr>\n",
       "    <tr>\n",
       "      <th>4</th>\n",
       "      <td>5</td>\n",
       "      <td>0</td>\n",
       "      <td>3</td>\n",
       "      <td>Allen, Mr. William Henry</td>\n",
       "      <td>male</td>\n",
       "      <td>35.0</td>\n",
       "      <td>0</td>\n",
       "      <td>0</td>\n",
       "      <td>373450</td>\n",
       "      <td>8.0500</td>\n",
       "      <td>NaN</td>\n",
       "      <td>S</td>\n",
       "    </tr>\n",
       "  </tbody>\n",
       "</table>\n",
       "</div>"
      ],
      "text/plain": [
       "   PassengerId  Survived  Pclass  \\\n",
       "0            1         0       3   \n",
       "1            2         1       1   \n",
       "2            3         1       3   \n",
       "3            4         1       1   \n",
       "4            5         0       3   \n",
       "\n",
       "                                                Name     Sex   Age  SibSp  \\\n",
       "0                            Braund, Mr. Owen Harris    male  22.0      1   \n",
       "1  Cumings, Mrs. John Bradley (Florence Briggs Th...  female  38.0      1   \n",
       "2                             Heikkinen, Miss. Laina  female  26.0      0   \n",
       "3       Futrelle, Mrs. Jacques Heath (Lily May Peel)  female  35.0      1   \n",
       "4                           Allen, Mr. William Henry    male  35.0      0   \n",
       "\n",
       "   Parch            Ticket     Fare Cabin Embarked  \n",
       "0      0         A/5 21171   7.2500   NaN        S  \n",
       "1      0          PC 17599  71.2833   C85        C  \n",
       "2      0  STON/O2. 3101282   7.9250   NaN        S  \n",
       "3      0            113803  53.1000  C123        S  \n",
       "4      0            373450   8.0500   NaN        S  "
      ]
     },
     "execution_count": 3,
     "metadata": {},
     "output_type": "execute_result"
    }
   ],
   "source": [
    "# Exploration | Verify data was loaded correctly\n",
    "df.head()"
   ]
  },
  {
   "cell_type": "code",
   "execution_count": 4,
   "metadata": {},
   "outputs": [
    {
     "name": "stdout",
     "output_type": "stream",
     "text": [
      "0    61.616162\n",
      "1    38.383838\n",
      "Name: Survived, dtype: float64\n"
     ]
    }
   ],
   "source": [
    "# Exploration | Visualize target class balance\n",
    "df[\"Survived\"].value_counts()\n",
    "proportions = df['Survived'].value_counts(normalize=True)*100\n",
    "print(proportions)"
   ]
  },
  {
   "cell_type": "code",
   "execution_count": 5,
   "metadata": {},
   "outputs": [
    {
     "data": {
      "text/plain": [
       "Mr              517\n",
       "Miss            182\n",
       "Mrs             125\n",
       "Master           40\n",
       "Dr                7\n",
       "Rev               6\n",
       "Mlle              2\n",
       "Major             2\n",
       "Col               2\n",
       "the Countess      1\n",
       "Capt              1\n",
       "Ms                1\n",
       "Sir               1\n",
       "Lady              1\n",
       "Mme               1\n",
       "Don               1\n",
       "Jonkheer          1\n",
       "Name: Titles, dtype: int64"
      ]
     },
     "execution_count": 5,
     "metadata": {},
     "output_type": "execute_result"
    }
   ],
   "source": [
    "# Preporcessing | Extract titles for each passanger and store them in new column\n",
    "titles = []\n",
    "for name in df[\"Name\"]:\n",
    "    titles.append(\"\".join(re.findall(r',([^.]*)\\.', name))[1:])\n",
    "df[\"Titles\"] = titles\n",
    "df[\"Titles\"].value_counts()"
   ]
  },
  {
   "cell_type": "code",
   "execution_count": 6,
   "metadata": {},
   "outputs": [
    {
     "data": {
      "text/html": [
       "<div>\n",
       "<style scoped>\n",
       "    .dataframe tbody tr th:only-of-type {\n",
       "        vertical-align: middle;\n",
       "    }\n",
       "\n",
       "    .dataframe tbody tr th {\n",
       "        vertical-align: top;\n",
       "    }\n",
       "\n",
       "    .dataframe thead th {\n",
       "        text-align: right;\n",
       "    }\n",
       "</style>\n",
       "<table border=\"1\" class=\"dataframe\">\n",
       "  <thead>\n",
       "    <tr style=\"text-align: right;\">\n",
       "      <th></th>\n",
       "      <th>PassengerId</th>\n",
       "      <th>Survived</th>\n",
       "      <th>Pclass</th>\n",
       "      <th>Name</th>\n",
       "      <th>Sex</th>\n",
       "      <th>Age</th>\n",
       "      <th>SibSp</th>\n",
       "      <th>Parch</th>\n",
       "      <th>Ticket</th>\n",
       "      <th>Fare</th>\n",
       "      <th>Cabin</th>\n",
       "      <th>Embarked</th>\n",
       "      <th>Titles</th>\n",
       "    </tr>\n",
       "  </thead>\n",
       "  <tbody>\n",
       "    <tr>\n",
       "      <th>443</th>\n",
       "      <td>444</td>\n",
       "      <td>1</td>\n",
       "      <td>2</td>\n",
       "      <td>Reynaldo, Ms. Encarnacion</td>\n",
       "      <td>female</td>\n",
       "      <td>28.0</td>\n",
       "      <td>0</td>\n",
       "      <td>0</td>\n",
       "      <td>230434</td>\n",
       "      <td>13.0</td>\n",
       "      <td>NaN</td>\n",
       "      <td>S</td>\n",
       "      <td>Ms</td>\n",
       "    </tr>\n",
       "  </tbody>\n",
       "</table>\n",
       "</div>"
      ],
      "text/plain": [
       "     PassengerId  Survived  Pclass                       Name     Sex   Age  \\\n",
       "443          444         1       2  Reynaldo, Ms. Encarnacion  female  28.0   \n",
       "\n",
       "     SibSp  Parch  Ticket  Fare Cabin Embarked Titles  \n",
       "443      0      0  230434  13.0   NaN        S     Ms  "
      ]
     },
     "execution_count": 6,
     "metadata": {},
     "output_type": "execute_result"
    }
   ],
   "source": [
    "# Preprocessing | Group equivalent titles\n",
    "df['Titles'] = df['Titles'].replace({'Mlle': 'Miss', 'Mme': 'Mrs'})# Mlle -> Miss | Mme -> Mrs\n",
    "df.loc[df['Titles'] == 'Ms']"
   ]
  },
  {
   "cell_type": "code",
   "execution_count": 7,
   "metadata": {},
   "outputs": [
    {
     "data": {
      "text/plain": [
       "'\\nEncarnación Reynaldo: Titanic Survivor. (1996, September 1). Encyclopedia Titanica. https://www.encyclopedia-titanica.org/titanic-survivor/encarnacion-reynaldo.html\\n'"
      ]
     },
     "execution_count": 7,
     "metadata": {},
     "output_type": "execute_result"
    }
   ],
   "source": [
    "# Preprocessing | Group Ms into Miss after reasearching \"Ms\" passanger\n",
    "df['Titles'] = df['Titles'].replace({'Ms': 'Miss'})\n",
    "\"\"\"\n",
    "Encarnación Reynaldo: Titanic Survivor. (1996, September 1). Encyclopedia Titanica. https://www.encyclopedia-titanica.org/titanic-survivor/encarnacion-reynaldo.html\n",
    "\"\"\""
   ]
  },
  {
   "cell_type": "code",
   "execution_count": 8,
   "metadata": {},
   "outputs": [
    {
     "data": {
      "image/png": "[encoded data removed]",
      "text/plain": [
       "<Figure size 1500x1000 with 6 Axes>"
      ]
     },
     "metadata": {},
     "output_type": "display_data"
    }
   ],
   "source": [
    "# Exploration | Plot survival rates per seemingly relevant variable.\n",
    "## Create age bins\n",
    "bins = range(0, 85, 5)\n",
    "labels = [f'{i}-{i+4}' for i in bins[:-1]]\n",
    "df['AgeGroup'] = pd.cut(df['Age'], bins=bins, labels=labels, right=False)\n",
    "\n",
    "## Function | Calulcate survival rates\n",
    "def calculate_percentages(data, column):\n",
    "    counts = data.groupby([column, 'Survived']).size().unstack(fill_value=0)\n",
    "    percentages = counts.div(counts.sum(axis=1), axis=0) * 100\n",
    "\n",
    "    return percentages\n",
    "\n",
    "## Calculate rates for each feature\n",
    "sex_percentages = calculate_percentages(df, 'Sex')\n",
    "pclass_percentages = calculate_percentages(df, 'Pclass')\n",
    "parch_percentages = calculate_percentages(df, 'Parch')\n",
    "age_group_percentages = calculate_percentages(df, 'AgeGroup')\n",
    "embarked_percentages = calculate_percentages(df, 'Embarked')\n",
    "titles_percentages = calculate_percentages(df, 'Titles')\n",
    "\n",
    "## Create a 2x3 subplot\n",
    "fig, axes = plt.subplots(2, 3, figsize=(15, 10))\n",
    "\n",
    "## Plot 1: Sex\n",
    "sex_percentages.plot(kind='bar', stacked=True, ax=axes[0, 0])\n",
    "axes[0, 0].set_title('Survival Percentage by Sex')\n",
    "axes[0, 0].set_xlabel('Sex')\n",
    "axes[0, 0].set_ylabel('Percentage')\n",
    "axes[0, 0].legend(title='Survived', labels=['No', 'Yes'])\n",
    "\n",
    "## Plot 2: Pclass\n",
    "pclass_percentages.plot(kind='bar', stacked=True, ax=axes[0, 1])\n",
    "axes[0, 1].set_title('Survival Percentage by Pclass')\n",
    "axes[0, 1].set_xlabel('Pclass')\n",
    "axes[0, 1].set_ylabel('Percentage')\n",
    "axes[0, 1].legend(title='Survived', labels=['No', 'Yes'])\n",
    "\n",
    "## Plot 3: Parch\n",
    "parch_percentages.plot(kind='bar', stacked=True, ax=axes[1, 0])\n",
    "axes[1, 0].set_title('Survival Percentage by Parch')\n",
    "axes[1, 0].set_xlabel('Parch')\n",
    "axes[1, 0].set_ylabel('Percentage')\n",
    "axes[1, 0].legend(title='Survived', labels=['No', 'Yes'])\n",
    "\n",
    "## Plot 4: Age Group\n",
    "age_group_percentages.plot(kind='bar', stacked=True, ax=axes[1, 1])\n",
    "axes[1, 1].set_title('Survival Percentage by Age Group')\n",
    "axes[1, 1].set_xlabel('Age Group')\n",
    "axes[1, 1].set_ylabel('Percentage')\n",
    "axes[1, 1].legend(title='Survived', labels=['No', 'Yes'])\n",
    "axes[1, 1].tick_params(axis='x', rotation=45)\n",
    "\n",
    "## Plot 5: Embarked\n",
    "embarked_percentages.plot(kind='bar', stacked=True, ax=axes[0, 2])\n",
    "axes[0, 2].set_title('Survival Percentage by Embarked')\n",
    "axes[0, 2].set_xlabel('Embarked')\n",
    "axes[0, 2].set_ylabel('Percentage')\n",
    "axes[0, 2].legend(title='Survived', labels=['No', 'Yes'])\n",
    "\n",
    "## Plot 6: Titles\n",
    "titles_percentages.plot(kind='bar', stacked=True, ax=axes[1, 2])\n",
    "axes[1, 2].set_title('Survival Percentage by Title')\n",
    "axes[1, 2].set_xlabel('Title')\n",
    "axes[1, 2].set_ylabel('Percentage')\n",
    "axes[1, 2].legend(title='Survived', labels=['No', 'Yes'])\n",
    "\n",
    "## Plot\n",
    "plt.tight_layout()\n",
    "plt.show()"
   ]
  },
  {
   "cell_type": "code",
   "execution_count": 9,
   "metadata": {},
   "outputs": [
    {
     "data": {
      "text/html": [
       "<div>\n",
       "<style scoped>\n",
       "    .dataframe tbody tr th:only-of-type {\n",
       "        vertical-align: middle;\n",
       "    }\n",
       "\n",
       "    .dataframe tbody tr th {\n",
       "        vertical-align: top;\n",
       "    }\n",
       "\n",
       "    .dataframe thead th {\n",
       "        text-align: right;\n",
       "    }\n",
       "</style>\n",
       "<table border=\"1\" class=\"dataframe\">\n",
       "  <thead>\n",
       "    <tr style=\"text-align: right;\">\n",
       "      <th></th>\n",
       "      <th>PassengerId</th>\n",
       "      <th>Survived</th>\n",
       "      <th>Pclass</th>\n",
       "      <th>Name</th>\n",
       "      <th>Sex</th>\n",
       "      <th>Age</th>\n",
       "      <th>SibSp</th>\n",
       "      <th>Parch</th>\n",
       "      <th>Ticket</th>\n",
       "      <th>Fare</th>\n",
       "      <th>Cabin</th>\n",
       "      <th>Embarked</th>\n",
       "      <th>Titles</th>\n",
       "      <th>AgeGroup</th>\n",
       "    </tr>\n",
       "  </thead>\n",
       "  <tbody>\n",
       "    <tr>\n",
       "      <th>61</th>\n",
       "      <td>62</td>\n",
       "      <td>1</td>\n",
       "      <td>1</td>\n",
       "      <td>Icard, Miss. Amelie</td>\n",
       "      <td>female</td>\n",
       "      <td>38.0</td>\n",
       "      <td>0</td>\n",
       "      <td>0</td>\n",
       "      <td>113572</td>\n",
       "      <td>80.0</td>\n",
       "      <td>B28</td>\n",
       "      <td>NaN</td>\n",
       "      <td>Miss</td>\n",
       "      <td>35-39</td>\n",
       "    </tr>\n",
       "    <tr>\n",
       "      <th>829</th>\n",
       "      <td>830</td>\n",
       "      <td>1</td>\n",
       "      <td>1</td>\n",
       "      <td>Stone, Mrs. George Nelson (Martha Evelyn)</td>\n",
       "      <td>female</td>\n",
       "      <td>62.0</td>\n",
       "      <td>0</td>\n",
       "      <td>0</td>\n",
       "      <td>113572</td>\n",
       "      <td>80.0</td>\n",
       "      <td>B28</td>\n",
       "      <td>NaN</td>\n",
       "      <td>Mrs</td>\n",
       "      <td>60-64</td>\n",
       "    </tr>\n",
       "  </tbody>\n",
       "</table>\n",
       "</div>"
      ],
      "text/plain": [
       "     PassengerId  Survived  Pclass                                       Name  \\\n",
       "61            62         1       1                        Icard, Miss. Amelie   \n",
       "829          830         1       1  Stone, Mrs. George Nelson (Martha Evelyn)   \n",
       "\n",
       "        Sex   Age  SibSp  Parch  Ticket  Fare Cabin Embarked Titles AgeGroup  \n",
       "61   female  38.0      0      0  113572  80.0   B28      NaN   Miss    35-39  \n",
       "829  female  62.0      0      0  113572  80.0   B28      NaN    Mrs    60-64  "
      ]
     },
     "execution_count": 9,
     "metadata": {},
     "output_type": "execute_result"
    }
   ],
   "source": [
    "# Exploration | Identify NaN in Embarked\n",
    "df[df['Embarked'].isnull()]"
   ]
  },
  {
   "cell_type": "code",
   "execution_count": 10,
   "metadata": {},
   "outputs": [
    {
     "name": "stdout",
     "output_type": "stream",
     "text": [
      "<class 'pandas.core.frame.DataFrame'>\n",
      "RangeIndex: 891 entries, 0 to 890\n",
      "Data columns (total 14 columns):\n",
      " #   Column       Non-Null Count  Dtype   \n",
      "---  ------       --------------  -----   \n",
      " 0   PassengerId  891 non-null    int64   \n",
      " 1   Survived     891 non-null    int64   \n",
      " 2   Pclass       891 non-null    int64   \n",
      " 3   Name         891 non-null    object  \n",
      " 4   Sex          891 non-null    object  \n",
      " 5   Age          714 non-null    float64 \n",
      " 6   SibSp        891 non-null    int64   \n",
      " 7   Parch        891 non-null    int64   \n",
      " 8   Ticket       891 non-null    object  \n",
      " 9   Fare         891 non-null    float64 \n",
      " 10  Cabin        204 non-null    object  \n",
      " 11  Embarked     891 non-null    object  \n",
      " 12  Titles       891 non-null    object  \n",
      " 13  AgeGroup     713 non-null    category\n",
      "dtypes: category(1), float64(2), int64(5), object(6)\n",
      "memory usage: 92.2+ KB\n"
     ]
    },
    {
     "data": {
      "text/plain": [
       "'\\nMartha Evelyn Stone: Titanic Survivor. (1996, September 1). Encyclopedia Titanica. https://www.encyclopedia-titanica.org/titanic-survivor/martha-evelyn-stone.html\\nRose Amélie Icard: Titanic Survivor. (1996, September 1). Encyclopedia Titanica. https://www.encyclopedia-titanica.org/titanic-survivor/amelia-icard.html\\n'"
      ]
     },
     "execution_count": 10,
     "metadata": {},
     "output_type": "execute_result"
    }
   ],
   "source": [
    "# Cleansing | Preliminar Nan handling in Embarked:  Replace with real researched data.\n",
    "df['Embarked'].fillna('S', inplace=True)\n",
    "df.info()\n",
    "\"\"\"\n",
    "Martha Evelyn Stone: Titanic Survivor. (1996, September 1). Encyclopedia Titanica. https://www.encyclopedia-titanica.org/titanic-survivor/martha-evelyn-stone.html\n",
    "Rose Amélie Icard: Titanic Survivor. (1996, September 1). Encyclopedia Titanica. https://www.encyclopedia-titanica.org/titanic-survivor/amelia-icard.html\n",
    "\"\"\""
   ]
  },
  {
   "cell_type": "code",
   "execution_count": 11,
   "metadata": {},
   "outputs": [
    {
     "name": "stdout",
     "output_type": "stream",
     "text": [
      "<class 'pandas.core.frame.DataFrame'>\n",
      "RangeIndex: 891 entries, 0 to 890\n",
      "Data columns (total 12 columns):\n",
      " #   Column       Non-Null Count  Dtype   \n",
      "---  ------       --------------  -----   \n",
      " 0   PassengerId  891 non-null    int64   \n",
      " 1   Survived     891 non-null    int64   \n",
      " 2   Pclass       891 non-null    int64   \n",
      " 3   Name         891 non-null    object  \n",
      " 4   Sex          891 non-null    object  \n",
      " 5   Age          714 non-null    float64 \n",
      " 6   SibSp        891 non-null    int64   \n",
      " 7   Parch        891 non-null    int64   \n",
      " 8   Fare         891 non-null    float64 \n",
      " 9   Embarked     891 non-null    object  \n",
      " 10  Titles       891 non-null    object  \n",
      " 11  AgeGroup     713 non-null    category\n",
      "dtypes: category(1), float64(2), int64(5), object(4)\n",
      "memory usage: 78.2+ KB\n"
     ]
    }
   ],
   "source": [
    "# Cleansing | Feature removal\n",
    "df.drop(\"Cabin\", axis = 1, inplace = True) # Drop due to excesive amount of NaNs\n",
    "df.drop(\"Ticket\", axis = 1, inplace = True) # Drop due to to management difficulty\n",
    "df.info()"
   ]
  },
  {
   "cell_type": "markdown",
   "metadata": {},
   "source": [
    "**Categorical Data:**\n",
    "- Pclass: Ordinal\n",
    "- Sex: Binary\n",
    "- Embarked: Nominal\n",
    "- Titles: Nominal"
   ]
  },
  {
   "cell_type": "code",
   "execution_count": 12,
   "metadata": {},
   "outputs": [],
   "source": [
    "# Preprocessing | Categorical data handling\n",
    "from sklearn.preprocessing import LabelEncoder\n",
    "\n",
    "## Binary data: Label Encoding\n",
    "leS = LabelEncoder()\n",
    "df[\"Sex\"] = leS.fit_transform(df[\"Sex\"]) # 1: male, 2: female\n",
    "\n",
    "## Re order Pclass | 1: lower, 2: medium, 3: upper\n",
    "df['Pclass'] = df['Pclass'].replace({1: 'upper', 2: 'medium', 3: 'lower'})\n",
    "df['Pclass'] = df['Pclass'].replace({'upper': 3, 'medium': 2, 'lower': 1})\n",
    "\n",
    "## Nominal data: One hot encoding\n",
    "### Embarked\n",
    "embarked = pd.get_dummies(df['Embarked'])\n",
    "df = pd.concat([df, embarked], axis = 1)\n",
    "df.drop('Embarked', axis=1, inplace=True)\n",
    "\n",
    "### Title\n",
    "title_mapping = { # CST: Common Title, PT: Professional Title, NT: Nobiliy Titles, MT: MIllitary Titles\n",
    "    'Mr': 'CT',\n",
    "    'Miss': 'CT',\n",
    "    'Mrs': 'CT',\n",
    "    'Ms': 'CT',\n",
    "    'Dr': 'PT',\n",
    "    'Rev': 'PT',\n",
    "    'the Countess': 'NT',\n",
    "    'Sir': 'NT',\n",
    "    'Lady': 'NT',\n",
    "    'Don': 'NT',\n",
    "    'Jonkheer': 'NT',\n",
    "    'Major': 'MT',\n",
    "    'Col': 'MT',\n",
    "    'Capt': 'MT',\n",
    "    'Master': 'CT',\n",
    "    'Mlle': 'CT',\n",
    "    'Mme': 'CT'\n",
    "}\n",
    "# Group titles\n",
    "titles_mapped = pd.get_dummies(df['Titles'].replace(title_mapping))\n",
    "df = pd.concat([df, titles_mapped], axis = 1) # .iloc[:, :-1]"
   ]
  },
  {
   "cell_type": "code",
   "execution_count": 13,
   "metadata": {},
   "outputs": [
    {
     "name": "stdout",
     "output_type": "stream",
     "text": [
      "F1 Score: 0.7826086956521738\n",
      "   Feature  Coefficient\n",
      "1      Sex    -2.317112\n",
      "0   Pclass     1.059715\n",
      "2      Age    -0.641752\n",
      "3    SibSp    -0.401230\n",
      "7        Q    -0.336596\n",
      "10      MT     0.303799\n",
      "12      PT    -0.280902\n",
      "6        C     0.237739\n",
      "11      NT    -0.236133\n",
      "9       CT     0.208747\n",
      "8        S     0.094367\n",
      "4    Parch     0.052758\n",
      "5     Fare     0.003009\n"
     ]
    }
   ],
   "source": [
    "# Exploration | Identify significant features\n",
    "\"\"\"\n",
    "A logistic regression model is trained on all variables, and those without significant impact, meaning a low coefficient, on \n",
    "the dataset are discarded or transformed.\n",
    "\"\"\"\n",
    "\n",
    "from sklearn.model_selection import train_test_split\n",
    "from sklearn.linear_model import LogisticRegression\n",
    "from sklearn.metrics import f1_score\n",
    "from sklearn.preprocessing import StandardScaler\n",
    "\n",
    "## Drop missing values\n",
    "df_de = df.dropna()\n",
    "\n",
    "## Data separation and segmentation\n",
    "X = df_de.drop(columns=[df_de.columns[0], 'Titles', 'Survived', 'AgeGroup', 'Name'])\n",
    "y = df_de.iloc[:, 1]\n",
    "columns_to_standardize = [\"Age\", 'Parch', 'SibSp']\n",
    "scaler = StandardScaler()\n",
    "X[columns_to_standardize] = scaler.fit_transform(X[columns_to_standardize])\n",
    "X_train, X_test, y_train, y_test = train_test_split(X, y, test_size=0.3, random_state = seed)\n",
    "\n",
    "## Initialize and train the logistic regression model\n",
    "model = LogisticRegression(max_iter=500)\n",
    "model.fit(X_train, y_train)\n",
    "\n",
    "## Predict on the test set\n",
    "y_pred = model.predict(X_test)\n",
    "\n",
    "## Calculate the F1 score\n",
    "f1 = f1_score(y_test, y_pred)\n",
    "\n",
    "## Obtain and rank the coefficeints\n",
    "coefficients = model.coef_[0]\n",
    "coef_df = pd.DataFrame({'Feature': X.columns, 'Coefficient': coefficients})\n",
    "coef_df['Absolute Coefficient'] = coef_df['Coefficient'].abs()\n",
    "coef_df = coef_df.sort_values(by='Absolute Coefficient', ascending=False)\n",
    "\n",
    "## Display the results\n",
    "print(f\"F1 Score: {f1}\")\n",
    "print(coef_df[['Feature', 'Coefficient']])"
   ]
  },
  {
   "cell_type": "code",
   "execution_count": 14,
   "metadata": {},
   "outputs": [],
   "source": [
    "# Cleansing | Remove features\n",
    "df.drop(\"Fare\", axis = 1, inplace = True) # Drop due to low significance\n",
    "df.drop(\"S\", axis = 1, inplace = True) # Drop due to low significance and multiollinearity\n",
    "df.drop(\"CT\", axis = 1, inplace = True) # Drop due to multicollinearity"
   ]
  },
  {
   "cell_type": "code",
   "execution_count": 15,
   "metadata": {},
   "outputs": [],
   "source": [
    "# Preprocessing | Family Size = Parch + SibSp + current passanger\n",
    "df['Family_Size'] = df['SibSp'] + df['Parch'] + 1\n",
    "df.drop(\"Parch\", axis = 1, inplace = True) # Drop due to redundancy\n",
    "df.drop(\"SibSp\", axis = 1, inplace = True) # Drop due to redundancy"
   ]
  },
  {
   "cell_type": "code",
   "execution_count": 16,
   "metadata": {},
   "outputs": [],
   "source": [
    "# Preprocessing | Replace index with PassengerId\n",
    "df.set_index(df.columns[0], inplace=True)"
   ]
  },
  {
   "cell_type": "code",
   "execution_count": 17,
   "metadata": {},
   "outputs": [
    {
     "name": "stdout",
     "output_type": "stream",
     "text": [
      "Titles\n",
      "Dr          1\n",
      "Master      4\n",
      "Miss       36\n",
      "Mr        119\n",
      "Mrs        17\n",
      "dtype: int64\n"
     ]
    }
   ],
   "source": [
    "# Exploration | Identify missing age values per title\n",
    "nan_age_grouped = df[df['Age'].isna()].groupby('Titles').size()\n",
    "\n",
    "print(nan_age_grouped)"
   ]
  },
  {
   "cell_type": "code",
   "execution_count": 18,
   "metadata": {},
   "outputs": [
    {
     "data": {
      "image/png": "[encoded data removed]",
      "text/plain": [
       "<Figure size 1200x1000 with 4 Axes>"
      ]
     },
     "metadata": {},
     "output_type": "display_data"
    }
   ],
   "source": [
    "# Data Exploration | Identify outliers in age per titles with missing values\n",
    "filtered_df = df[df['Titles'].isin(['Master', 'Miss', 'Mr', 'Mrs'])]\n",
    "\n",
    "## Create a 2x2 grid of boxplots\n",
    "fig, axes = plt.subplots(2, 2, figsize=(12, 10))\n",
    "\n",
    "# Plot each title\n",
    "titles = ['Master', 'Miss', 'Mr', 'Mrs']\n",
    "for ax, title in zip(axes.flatten(), titles):\n",
    "    ax.boxplot(filtered_df[filtered_df['Titles'] == title]['Age'].dropna())\n",
    "    ax.set_title(f'Age distribution for {title}')\n",
    "    ax.set_ylabel('Age')\n",
    "    ax.set_xlabel(title)\n",
    "\n",
    "plt.tight_layout()\n",
    "plt.show()\n"
   ]
  },
  {
   "cell_type": "code",
   "execution_count": 19,
   "metadata": {},
   "outputs": [
    {
     "name": "stdout",
     "output_type": "stream",
     "text": [
      "                   mean  median\n",
      "Titles                         \n",
      "Capt          70.000000    70.0\n",
      "Col           58.000000    58.0\n",
      "Don           40.000000    40.0\n",
      "Dr            42.000000    46.5\n",
      "Jonkheer      38.000000    38.0\n",
      "Lady          48.000000    48.0\n",
      "Major         48.500000    48.5\n",
      "Master         4.574167     3.5\n",
      "Miss          21.845638    21.0\n",
      "Mr            32.368090    30.0\n",
      "Mrs           35.788991    35.0\n",
      "Rev           43.166667    46.5\n",
      "Sir           49.000000    49.0\n",
      "the Countess  33.000000    33.0\n"
     ]
    }
   ],
   "source": [
    "# Exploration | Identify measures of centrality of age by title\n",
    "centrality_measures = df.groupby('Titles')['Age'].agg(['mean', 'median'])\n",
    "\n",
    "print(centrality_measures)"
   ]
  },
  {
   "cell_type": "code",
   "execution_count": 20,
   "metadata": {},
   "outputs": [],
   "source": [
    "# Cleansing | Replace missing age values with measures of centrality\n",
    "df.loc[(df['Titles'] == 'Master') & (df['Age'].isna()), 'Age'] = 4.6 # Mean\n",
    "df.loc[(df['Titles'] == 'Miss') & (df['Age'].isna()), 'Age'] = 21.0 # Median\n",
    "df.loc[(df['Titles'] == 'Mr') & (df['Age'].isna()), 'Age'] = 30.0 # Median\n",
    "df.loc[(df['Titles'] == 'Mrs') & (df['Age'].isna()), 'Age'] = 35.8 # Mean"
   ]
  },
  {
   "cell_type": "code",
   "execution_count": 21,
   "metadata": {},
   "outputs": [
    {
     "name": "stdout",
     "output_type": "stream",
     "text": [
      "PassengerId\n",
      "767    Brewe, Dr. Arthur Jackson\n",
      "Name: Name, dtype: object\n"
     ]
    }
   ],
   "source": [
    "# Exploration | Identify Dr title with missing values\n",
    "missing_values_dr = df.loc[(df['Titles'] == 'Dr') & (df.isna().any(axis=1))]\n",
    "print(missing_values_dr[\"Name\"])"
   ]
  },
  {
   "cell_type": "code",
   "execution_count": 22,
   "metadata": {},
   "outputs": [
    {
     "data": {
      "text/plain": [
       "'\\nArthur Jackson Brewe: Titanic Victim. (1996, September 1). Encyclopedia Titanica. https://www.encyclopedia-titanica.org/titanic-victim/arthur-jackson-brewe.html\\n'"
      ]
     },
     "execution_count": 22,
     "metadata": {},
     "output_type": "execute_result"
    }
   ],
   "source": [
    "# Cleansing | Replace missing age of Dr. Jackson with researched value\n",
    "df.loc[df['Titles'] == 'Dr', ['Age']] = df.loc[df['Titles'] == 'Dr', ['Age']].fillna(46)\n",
    "\n",
    "'''\n",
    "Arthur Jackson Brewe: Titanic Victim. (1996, September 1). Encyclopedia Titanica. https://www.encyclopedia-titanica.org/titanic-victim/arthur-jackson-brewe.html\n",
    "'''"
   ]
  },
  {
   "cell_type": "code",
   "execution_count": 23,
   "metadata": {},
   "outputs": [
    {
     "data": {
      "text/html": [
       "<div>\n",
       "<style scoped>\n",
       "    .dataframe tbody tr th:only-of-type {\n",
       "        vertical-align: middle;\n",
       "    }\n",
       "\n",
       "    .dataframe tbody tr th {\n",
       "        vertical-align: top;\n",
       "    }\n",
       "\n",
       "    .dataframe thead th {\n",
       "        text-align: right;\n",
       "    }\n",
       "</style>\n",
       "<table border=\"1\" class=\"dataframe\">\n",
       "  <thead>\n",
       "    <tr style=\"text-align: right;\">\n",
       "      <th></th>\n",
       "      <th>Survived</th>\n",
       "      <th>Pclass</th>\n",
       "      <th>Name</th>\n",
       "      <th>Sex</th>\n",
       "      <th>Age</th>\n",
       "      <th>Titles</th>\n",
       "      <th>AgeGroup</th>\n",
       "      <th>C</th>\n",
       "      <th>Q</th>\n",
       "      <th>MT</th>\n",
       "      <th>NT</th>\n",
       "      <th>PT</th>\n",
       "      <th>Family_Size</th>\n",
       "    </tr>\n",
       "    <tr>\n",
       "      <th>PassengerId</th>\n",
       "      <th></th>\n",
       "      <th></th>\n",
       "      <th></th>\n",
       "      <th></th>\n",
       "      <th></th>\n",
       "      <th></th>\n",
       "      <th></th>\n",
       "      <th></th>\n",
       "      <th></th>\n",
       "      <th></th>\n",
       "      <th></th>\n",
       "      <th></th>\n",
       "      <th></th>\n",
       "    </tr>\n",
       "  </thead>\n",
       "  <tbody>\n",
       "    <tr>\n",
       "      <th>1</th>\n",
       "      <td>0</td>\n",
       "      <td>1</td>\n",
       "      <td>Braund, Mr. Owen Harris</td>\n",
       "      <td>1</td>\n",
       "      <td>22.0</td>\n",
       "      <td>Mr</td>\n",
       "      <td>20-24</td>\n",
       "      <td>0</td>\n",
       "      <td>0</td>\n",
       "      <td>0</td>\n",
       "      <td>0</td>\n",
       "      <td>0</td>\n",
       "      <td>2</td>\n",
       "    </tr>\n",
       "    <tr>\n",
       "      <th>2</th>\n",
       "      <td>1</td>\n",
       "      <td>3</td>\n",
       "      <td>Cumings, Mrs. John Bradley (Florence Briggs Th...</td>\n",
       "      <td>0</td>\n",
       "      <td>38.0</td>\n",
       "      <td>Mrs</td>\n",
       "      <td>35-39</td>\n",
       "      <td>1</td>\n",
       "      <td>0</td>\n",
       "      <td>0</td>\n",
       "      <td>0</td>\n",
       "      <td>0</td>\n",
       "      <td>2</td>\n",
       "    </tr>\n",
       "    <tr>\n",
       "      <th>3</th>\n",
       "      <td>1</td>\n",
       "      <td>1</td>\n",
       "      <td>Heikkinen, Miss. Laina</td>\n",
       "      <td>0</td>\n",
       "      <td>26.0</td>\n",
       "      <td>Miss</td>\n",
       "      <td>25-29</td>\n",
       "      <td>0</td>\n",
       "      <td>0</td>\n",
       "      <td>0</td>\n",
       "      <td>0</td>\n",
       "      <td>0</td>\n",
       "      <td>1</td>\n",
       "    </tr>\n",
       "    <tr>\n",
       "      <th>4</th>\n",
       "      <td>1</td>\n",
       "      <td>3</td>\n",
       "      <td>Futrelle, Mrs. Jacques Heath (Lily May Peel)</td>\n",
       "      <td>0</td>\n",
       "      <td>35.0</td>\n",
       "      <td>Mrs</td>\n",
       "      <td>35-39</td>\n",
       "      <td>0</td>\n",
       "      <td>0</td>\n",
       "      <td>0</td>\n",
       "      <td>0</td>\n",
       "      <td>0</td>\n",
       "      <td>2</td>\n",
       "    </tr>\n",
       "    <tr>\n",
       "      <th>5</th>\n",
       "      <td>0</td>\n",
       "      <td>1</td>\n",
       "      <td>Allen, Mr. William Henry</td>\n",
       "      <td>1</td>\n",
       "      <td>35.0</td>\n",
       "      <td>Mr</td>\n",
       "      <td>35-39</td>\n",
       "      <td>0</td>\n",
       "      <td>0</td>\n",
       "      <td>0</td>\n",
       "      <td>0</td>\n",
       "      <td>0</td>\n",
       "      <td>1</td>\n",
       "    </tr>\n",
       "  </tbody>\n",
       "</table>\n",
       "</div>"
      ],
      "text/plain": [
       "             Survived  Pclass  \\\n",
       "PassengerId                     \n",
       "1                   0       1   \n",
       "2                   1       3   \n",
       "3                   1       1   \n",
       "4                   1       3   \n",
       "5                   0       1   \n",
       "\n",
       "                                                          Name  Sex   Age  \\\n",
       "PassengerId                                                                 \n",
       "1                                      Braund, Mr. Owen Harris    1  22.0   \n",
       "2            Cumings, Mrs. John Bradley (Florence Briggs Th...    0  38.0   \n",
       "3                                       Heikkinen, Miss. Laina    0  26.0   \n",
       "4                 Futrelle, Mrs. Jacques Heath (Lily May Peel)    0  35.0   \n",
       "5                                     Allen, Mr. William Henry    1  35.0   \n",
       "\n",
       "            Titles AgeGroup  C  Q  MT  NT  PT  Family_Size  \n",
       "PassengerId                                                 \n",
       "1               Mr    20-24  0  0   0   0   0            2  \n",
       "2              Mrs    35-39  1  0   0   0   0            2  \n",
       "3             Miss    25-29  0  0   0   0   0            1  \n",
       "4              Mrs    35-39  0  0   0   0   0            2  \n",
       "5               Mr    35-39  0  0   0   0   0            1  "
      ]
     },
     "execution_count": 23,
     "metadata": {},
     "output_type": "execute_result"
    }
   ],
   "source": [
    "df.head()"
   ]
  },
  {
   "cell_type": "code",
   "execution_count": 24,
   "metadata": {},
   "outputs": [],
   "source": [
    "# Preprocessing | Standarize selected features\n",
    "columns_to_standardize = [\"Age\", 'Family_Size']\n",
    "scaler = StandardScaler()\n",
    "df[columns_to_standardize] = scaler.fit_transform(df[columns_to_standardize])"
   ]
  },
  {
   "cell_type": "code",
   "execution_count": 25,
   "metadata": {},
   "outputs": [],
   "source": [
    "# Preprocessing | Create datasets with selected features\n",
    "X = df.drop([\"Name\", \"Survived\", \"AgeGroup\", \"Titles\"], axis = 1).copy()\n",
    "X.to_csv(\"X_train_C.csv\")\n",
    "y = pd.DataFrame(df[\"Survived\"])\n",
    "y.to_csv(\"y_train_C.csv\")"
   ]
  }
 ],
 "metadata": {
  "kernelspec": {
   "display_name": "Python 3",
   "language": "python",
   "name": "python3"
  },
  "language_info": {
   "codemirror_mode": {
    "name": "ipython",
    "version": 3
   },
   "file_extension": ".py",
   "mimetype": "text/x-python",
   "name": "python",
   "nbconvert_exporter": "python",
   "pygments_lexer": "ipython3",
   "version": "3.11.2"
  }
 },
 "nbformat": 4,
 "nbformat_minor": 2
}
