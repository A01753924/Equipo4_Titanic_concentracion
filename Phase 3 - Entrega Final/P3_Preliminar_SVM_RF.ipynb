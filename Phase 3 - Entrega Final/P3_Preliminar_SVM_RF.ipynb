{
 "cells": [
  {
   "cell_type": "markdown",
   "metadata": {},
   "source": [
    "## Equipo #4 | TC3006C.102\n",
    "\n",
    "- Karla Andrea Palma Villanueva (A01754270)\n",
    "- Viviana Alanis Fraige (A01236316)\n",
    "- David Fernando Armendariz Torres (A01570813)\n",
    "- Alan Alberto Mota Yescas (A01753924)\n",
    "- Adrián Chávez Morales (A01568679)\n",
    "- Jose Manuel Armendáriz Mena (A01197583)"
   ]
  },
  {
   "cell_type": "markdown",
   "metadata": {},
   "source": [
    "### Setup"
   ]
  },
  {
   "cell_type": "code",
   "execution_count": 13,
   "metadata": {},
   "outputs": [],
   "source": [
    "# Import libraries\n",
    "import pandas as pd # Dataframe\n",
    "import numpy as np # Math\n",
    "import seaborn as sns # Graphs\n",
    "import matplotlib.pyplot as plt # Graphs\n",
    "import random # Randomness\n",
    "import numpy as np # Math\n",
    "from sklearn import svm # Support Vector Machines\n",
    "from sklearn.model_selection import train_test_split, GridSearchCV, cross_val_score, KFold, validation_curve, StratifiedKFold # Model tunning\n",
    "from sklearn.preprocessing import StandardScaler # Preprocessing\n",
    "from sklearn.metrics import accuracy_score, classification_report # Model Evaluation\n",
    "from sklearn.ensemble import RandomForestClassifier\n",
    "\n",
    "sd = 11\n",
    "\n",
    "random.seed(sd)\n",
    "np.random.seed(sd)"
   ]
  },
  {
   "cell_type": "code",
   "execution_count": 14,
   "metadata": {},
   "outputs": [],
   "source": [
    "df_X = pd.read_csv(\"X_train_C.csv\")\n",
    "df_y = pd.read_csv(\"y_train_C.csv\")\n",
    "\n",
    "X_train, X_test, y_train, y_test = train_test_split(df_X, df_y[\"Survived\"], test_size=0.2)"
   ]
  },
  {
   "cell_type": "markdown",
   "metadata": {},
   "source": [
    "### SVM"
   ]
  },
  {
   "cell_type": "code",
   "execution_count": 15,
   "metadata": {},
   "outputs": [],
   "source": [
    "# Define cross validation grid\n",
    "cv_grid = {\n",
    "    \"kernel\": [\"linear\", \"poly\", \"rbf\", \"sigmoid\"]\n",
    "}\n",
    "\n",
    "# Define the cross validation strategy | 5-Folds \n",
    "cv = StratifiedKFold(n_splits = 5, shuffle = True, random_state = sd)\n",
    "\n",
    "# Initialize the SVM model\n",
    "model = svm.SVC(random_state = sd)"
   ]
  },
  {
   "cell_type": "code",
   "execution_count": 16,
   "metadata": {},
   "outputs": [
    {
     "data": {
      "text/plain": [
       "{'kernel': 'linear'}"
      ]
     },
     "execution_count": 16,
     "metadata": {},
     "output_type": "execute_result"
    }
   ],
   "source": [
    "# Perform cross validation grid search \n",
    "best_model = GridSearchCV(estimator=model, param_grid=cv_grid, cv=cv, scoring=\"f1\", refit=True, n_jobs=-1)\n",
    "best_model.fit(X_train, y_train)\n",
    "best_model.best_params_"
   ]
  },
  {
   "cell_type": "code",
   "execution_count": 17,
   "metadata": {},
   "outputs": [
    {
     "name": "stdout",
     "output_type": "stream",
     "text": [
      "              precision    recall  f1-score   support\n",
      "\n",
      "           0       0.87      0.87      0.87       118\n",
      "           1       0.75      0.75      0.75        61\n",
      "\n",
      "    accuracy                           0.83       179\n",
      "   macro avg       0.81      0.81      0.81       179\n",
      "weighted avg       0.83      0.83      0.83       179\n",
      "\n"
     ]
    }
   ],
   "source": [
    "y_pred = best_model.predict(X_test)\n",
    "print(classification_report(y_test, y_pred))"
   ]
  },
  {
   "cell_type": "markdown",
   "metadata": {},
   "source": [
    "### Random Forest"
   ]
  },
  {
   "cell_type": "code",
   "execution_count": 18,
   "metadata": {},
   "outputs": [],
   "source": [
    "# Define cross validation grid\n",
    "cv_grid = {\n",
    "    'criterion': ['gini', 'entropy', 'log_loss']\n",
    "}\n",
    "\n",
    "# Define the cross validation strategy | 5-Folds \n",
    "cv = StratifiedKFold(n_splits = 5, shuffle = True, random_state = sd)\n",
    "\n",
    "# Initialize the SVM model\n",
    "model = RandomForestClassifier()"
   ]
  },
  {
   "cell_type": "code",
   "execution_count": 19,
   "metadata": {},
   "outputs": [
    {
     "data": {
      "text/plain": [
       "{'criterion': 'gini'}"
      ]
     },
     "execution_count": 19,
     "metadata": {},
     "output_type": "execute_result"
    }
   ],
   "source": [
    "# Perform cross validation grid search \n",
    "best_model = GridSearchCV(estimator=model, param_grid=cv_grid, cv=cv, scoring=\"f1\", refit=True, n_jobs=-1)\n",
    "best_model.fit(X_train, y_train)\n",
    "best_model.best_params_"
   ]
  },
  {
   "cell_type": "code",
   "execution_count": 20,
   "metadata": {},
   "outputs": [
    {
     "name": "stdout",
     "output_type": "stream",
     "text": [
      "              precision    recall  f1-score   support\n",
      "\n",
      "           0       0.85      0.89      0.87       118\n",
      "           1       0.76      0.69      0.72        61\n",
      "\n",
      "    accuracy                           0.82       179\n",
      "   macro avg       0.81      0.79      0.80       179\n",
      "weighted avg       0.82      0.82      0.82       179\n",
      "\n"
     ]
    }
   ],
   "source": [
    "y_pred = best_model.predict(X_test)\n",
    "print(classification_report(y_test, y_pred))"
   ]
  }
 ],
 "metadata": {
  "kernelspec": {
   "display_name": "Python 3",
   "language": "python",
   "name": "python3"
  },
  "language_info": {
   "codemirror_mode": {
    "name": "ipython",
    "version": 3
   },
   "file_extension": ".py",
   "mimetype": "text/x-python",
   "name": "python",
   "nbconvert_exporter": "python",
   "pygments_lexer": "ipython3",
   "version": "3.11.2"
  }
 },
 "nbformat": 4,
 "nbformat_minor": 2
}
