{
 "cells": [
  {
   "cell_type": "markdown",
   "metadata": {},
   "source": [
    "## Equipo #4 | TC3006C.102\n",
    "\n",
    "- Karla Andrea Palma Villanueva (A01754270)\n",
    "- Viviana Alanis Fraige (A01236316)\n",
    "- David Fernando Armendariz Torres (A01570813)\n",
    "- Alan Alberto Mota Yescas (A01753924)\n",
    "- Adrián Chávez Morales (A01568679)\n",
    "- Jose Manuel Armendáriz Mena (A01197583)"
   ]
  },
  {
   "cell_type": "markdown",
   "metadata": {},
   "source": [
    "### Prepare Programming Environment"
   ]
  },
  {
   "cell_type": "code",
   "execution_count": 208,
   "metadata": {},
   "outputs": [],
   "source": [
    "# Import libraries\n",
    "import pandas as pd # Dataframe management\n",
    "import re # Regular expressions\n",
    "import numpy as np # Math \n",
    "import matplotlib.pyplot as plt # Plots\n",
    "import math # Math\n",
    "import random # Randomness\n",
    "\n",
    "# Ensure reproducibility\n",
    "seed = 66\n",
    "random.seed(seed)\n",
    "np.random.seed(seed)"
   ]
  },
  {
   "cell_type": "code",
   "execution_count": 209,
   "metadata": {},
   "outputs": [
    {
     "name": "stdout",
     "output_type": "stream",
     "text": [
      "<class 'pandas.core.frame.DataFrame'>\n",
      "RangeIndex: 891 entries, 0 to 890\n",
      "Data columns (total 12 columns):\n",
      " #   Column       Non-Null Count  Dtype  \n",
      "---  ------       --------------  -----  \n",
      " 0   PassengerId  891 non-null    int64  \n",
      " 1   Survived     891 non-null    int64  \n",
      " 2   Pclass       891 non-null    int64  \n",
      " 3   Name         891 non-null    object \n",
      " 4   Sex          891 non-null    object \n",
      " 5   Age          714 non-null    float64\n",
      " 6   SibSp        891 non-null    int64  \n",
      " 7   Parch        891 non-null    int64  \n",
      " 8   Ticket       891 non-null    object \n",
      " 9   Fare         891 non-null    float64\n",
      " 10  Cabin        204 non-null    object \n",
      " 11  Embarked     889 non-null    object \n",
      "dtypes: float64(2), int64(5), object(5)\n",
      "memory usage: 83.7+ KB\n"
     ]
    }
   ],
   "source": [
    "# Load dataset\n",
    "df = pd.read_csv(\"train.csv\")\n",
    "df.info()"
   ]
  },
  {
   "cell_type": "markdown",
   "metadata": {},
   "source": [
    "### Data Exploration / Cleansing / Preprocessing"
   ]
  },
  {
   "cell_type": "code",
   "execution_count": 210,
   "metadata": {},
   "outputs": [
    {
     "data": {
      "text/html": [
       "<div>\n",
       "<style scoped>\n",
       "    .dataframe tbody tr th:only-of-type {\n",
       "        vertical-align: middle;\n",
       "    }\n",
       "\n",
       "    .dataframe tbody tr th {\n",
       "        vertical-align: top;\n",
       "    }\n",
       "\n",
       "    .dataframe thead th {\n",
       "        text-align: right;\n",
       "    }\n",
       "</style>\n",
       "<table border=\"1\" class=\"dataframe\">\n",
       "  <thead>\n",
       "    <tr style=\"text-align: right;\">\n",
       "      <th></th>\n",
       "      <th>PassengerId</th>\n",
       "      <th>Survived</th>\n",
       "      <th>Pclass</th>\n",
       "      <th>Name</th>\n",
       "      <th>Sex</th>\n",
       "      <th>Age</th>\n",
       "      <th>SibSp</th>\n",
       "      <th>Parch</th>\n",
       "      <th>Ticket</th>\n",
       "      <th>Fare</th>\n",
       "      <th>Cabin</th>\n",
       "      <th>Embarked</th>\n",
       "    </tr>\n",
       "  </thead>\n",
       "  <tbody>\n",
       "    <tr>\n",
       "      <th>0</th>\n",
       "      <td>1</td>\n",
       "      <td>0</td>\n",
       "      <td>3</td>\n",
       "      <td>Braund, Mr. Owen Harris</td>\n",
       "      <td>male</td>\n",
       "      <td>22.0</td>\n",
       "      <td>1</td>\n",
       "      <td>0</td>\n",
       "      <td>A/5 21171</td>\n",
       "      <td>7.2500</td>\n",
       "      <td>NaN</td>\n",
       "      <td>S</td>\n",
       "    </tr>\n",
       "    <tr>\n",
       "      <th>1</th>\n",
       "      <td>2</td>\n",
       "      <td>1</td>\n",
       "      <td>1</td>\n",
       "      <td>Cumings, Mrs. John Bradley (Florence Briggs Th...</td>\n",
       "      <td>female</td>\n",
       "      <td>38.0</td>\n",
       "      <td>1</td>\n",
       "      <td>0</td>\n",
       "      <td>PC 17599</td>\n",
       "      <td>71.2833</td>\n",
       "      <td>C85</td>\n",
       "      <td>C</td>\n",
       "    </tr>\n",
       "    <tr>\n",
       "      <th>2</th>\n",
       "      <td>3</td>\n",
       "      <td>1</td>\n",
       "      <td>3</td>\n",
       "      <td>Heikkinen, Miss. Laina</td>\n",
       "      <td>female</td>\n",
       "      <td>26.0</td>\n",
       "      <td>0</td>\n",
       "      <td>0</td>\n",
       "      <td>STON/O2. 3101282</td>\n",
       "      <td>7.9250</td>\n",
       "      <td>NaN</td>\n",
       "      <td>S</td>\n",
       "    </tr>\n",
       "    <tr>\n",
       "      <th>3</th>\n",
       "      <td>4</td>\n",
       "      <td>1</td>\n",
       "      <td>1</td>\n",
       "      <td>Futrelle, Mrs. Jacques Heath (Lily May Peel)</td>\n",
       "      <td>female</td>\n",
       "      <td>35.0</td>\n",
       "      <td>1</td>\n",
       "      <td>0</td>\n",
       "      <td>113803</td>\n",
       "      <td>53.1000</td>\n",
       "      <td>C123</td>\n",
       "      <td>S</td>\n",
       "    </tr>\n",
       "    <tr>\n",
       "      <th>4</th>\n",
       "      <td>5</td>\n",
       "      <td>0</td>\n",
       "      <td>3</td>\n",
       "      <td>Allen, Mr. William Henry</td>\n",
       "      <td>male</td>\n",
       "      <td>35.0</td>\n",
       "      <td>0</td>\n",
       "      <td>0</td>\n",
       "      <td>373450</td>\n",
       "      <td>8.0500</td>\n",
       "      <td>NaN</td>\n",
       "      <td>S</td>\n",
       "    </tr>\n",
       "  </tbody>\n",
       "</table>\n",
       "</div>"
      ],
      "text/plain": [
       "   PassengerId  Survived  Pclass  \\\n",
       "0            1         0       3   \n",
       "1            2         1       1   \n",
       "2            3         1       3   \n",
       "3            4         1       1   \n",
       "4            5         0       3   \n",
       "\n",
       "                                                Name     Sex   Age  SibSp  \\\n",
       "0                            Braund, Mr. Owen Harris    male  22.0      1   \n",
       "1  Cumings, Mrs. John Bradley (Florence Briggs Th...  female  38.0      1   \n",
       "2                             Heikkinen, Miss. Laina  female  26.0      0   \n",
       "3       Futrelle, Mrs. Jacques Heath (Lily May Peel)  female  35.0      1   \n",
       "4                           Allen, Mr. William Henry    male  35.0      0   \n",
       "\n",
       "   Parch            Ticket     Fare Cabin Embarked  \n",
       "0      0         A/5 21171   7.2500   NaN        S  \n",
       "1      0          PC 17599  71.2833   C85        C  \n",
       "2      0  STON/O2. 3101282   7.9250   NaN        S  \n",
       "3      0            113803  53.1000  C123        S  \n",
       "4      0            373450   8.0500   NaN        S  "
      ]
     },
     "execution_count": 210,
     "metadata": {},
     "output_type": "execute_result"
    }
   ],
   "source": [
    "# Exploration | Verify data was loaded correctly\n",
    "df.head()"
   ]
  },
  {
   "cell_type": "code",
   "execution_count": 211,
   "metadata": {},
   "outputs": [
    {
     "name": "stdout",
     "output_type": "stream",
     "text": [
      "0    61.616162\n",
      "1    38.383838\n",
      "Name: Survived, dtype: float64\n"
     ]
    }
   ],
   "source": [
    "# Exploration | Visualize target class balance\n",
    "df[\"Survived\"].value_counts()\n",
    "proportions = df['Survived'].value_counts(normalize=True)*100\n",
    "print(proportions)"
   ]
  },
  {
   "cell_type": "code",
   "execution_count": 212,
   "metadata": {},
   "outputs": [
    {
     "data": {
      "text/plain": [
       "Mr              517\n",
       "Miss            182\n",
       "Mrs             125\n",
       "Master           40\n",
       "Dr                7\n",
       "Rev               6\n",
       "Mlle              2\n",
       "Major             2\n",
       "Col               2\n",
       "the Countess      1\n",
       "Capt              1\n",
       "Ms                1\n",
       "Sir               1\n",
       "Lady              1\n",
       "Mme               1\n",
       "Don               1\n",
       "Jonkheer          1\n",
       "Name: Titles, dtype: int64"
      ]
     },
     "execution_count": 212,
     "metadata": {},
     "output_type": "execute_result"
    }
   ],
   "source": [
    "# Preporcessing | Extract titles for each passanger and store them in new column\n",
    "titles = []\n",
    "for name in df[\"Name\"]:\n",
    "    titles.append(\"\".join(re.findall(r',([^.]*)\\.', name))[1:])\n",
    "df[\"Titles\"] = titles\n",
    "df[\"Titles\"].value_counts()"
   ]
  },
  {
   "cell_type": "code",
   "execution_count": 213,
   "metadata": {},
   "outputs": [
    {
     "data": {
      "text/html": [
       "<div>\n",
       "<style scoped>\n",
       "    .dataframe tbody tr th:only-of-type {\n",
       "        vertical-align: middle;\n",
       "    }\n",
       "\n",
       "    .dataframe tbody tr th {\n",
       "        vertical-align: top;\n",
       "    }\n",
       "\n",
       "    .dataframe thead th {\n",
       "        text-align: right;\n",
       "    }\n",
       "</style>\n",
       "<table border=\"1\" class=\"dataframe\">\n",
       "  <thead>\n",
       "    <tr style=\"text-align: right;\">\n",
       "      <th></th>\n",
       "      <th>PassengerId</th>\n",
       "      <th>Survived</th>\n",
       "      <th>Pclass</th>\n",
       "      <th>Name</th>\n",
       "      <th>Sex</th>\n",
       "      <th>Age</th>\n",
       "      <th>SibSp</th>\n",
       "      <th>Parch</th>\n",
       "      <th>Ticket</th>\n",
       "      <th>Fare</th>\n",
       "      <th>Cabin</th>\n",
       "      <th>Embarked</th>\n",
       "      <th>Titles</th>\n",
       "    </tr>\n",
       "  </thead>\n",
       "  <tbody>\n",
       "    <tr>\n",
       "      <th>443</th>\n",
       "      <td>444</td>\n",
       "      <td>1</td>\n",
       "      <td>2</td>\n",
       "      <td>Reynaldo, Ms. Encarnacion</td>\n",
       "      <td>female</td>\n",
       "      <td>28.0</td>\n",
       "      <td>0</td>\n",
       "      <td>0</td>\n",
       "      <td>230434</td>\n",
       "      <td>13.0</td>\n",
       "      <td>NaN</td>\n",
       "      <td>S</td>\n",
       "      <td>Ms</td>\n",
       "    </tr>\n",
       "  </tbody>\n",
       "</table>\n",
       "</div>"
      ],
      "text/plain": [
       "     PassengerId  Survived  Pclass                       Name     Sex   Age  \\\n",
       "443          444         1       2  Reynaldo, Ms. Encarnacion  female  28.0   \n",
       "\n",
       "     SibSp  Parch  Ticket  Fare Cabin Embarked Titles  \n",
       "443      0      0  230434  13.0   NaN        S     Ms  "
      ]
     },
     "execution_count": 213,
     "metadata": {},
     "output_type": "execute_result"
    }
   ],
   "source": [
    "# Preprocessing | Group equivalent titles\n",
    "df['Titles'] = df['Titles'].replace({'Mlle': 'Miss', 'Mme': 'Mrs'})# Mlle -> Miss | Mme -> Mrs\n",
    "df.loc[df['Titles'] == 'Ms']"
   ]
  },
  {
   "cell_type": "code",
   "execution_count": 214,
   "metadata": {},
   "outputs": [
    {
     "data": {
      "text/plain": [
       "'\\nEncarnación Reynaldo: Titanic Survivor. (1996, September 1). Encyclopedia Titanica. https://www.encyclopedia-titanica.org/titanic-survivor/encarnacion-reynaldo.html\\n'"
      ]
     },
     "execution_count": 214,
     "metadata": {},
     "output_type": "execute_result"
    }
   ],
   "source": [
    "# Preprocessing | Group Ms into Miss after reasearching \"Ms\" passanger\n",
    "df['Titles'] = df['Titles'].replace({'Ms': 'Miss'})\n",
    "\"\"\"\n",
    "Encarnación Reynaldo: Titanic Survivor. (1996, September 1). Encyclopedia Titanica. https://www.encyclopedia-titanica.org/titanic-survivor/encarnacion-reynaldo.html\n",
    "\"\"\""
   ]
  },
  {
   "cell_type": "code",
   "execution_count": 215,
   "metadata": {},
   "outputs": [
    {
     "data": {
      "image/png": "[encoded data removed]",
      "text/plain": [
       "<Figure size 1500x1000 with 6 Axes>"
      ]
     },
     "metadata": {},
     "output_type": "display_data"
    }
   ],
   "source": [
    "# Exploration | Plot survival rates per seemingly relevant variable.\n",
    "## Create age bins\n",
    "bins = range(0, 85, 5)\n",
    "labels = [f'{i}-{i+4}' for i in bins[:-1]]\n",
    "df['AgeGroup'] = pd.cut(df['Age'], bins=bins, labels=labels, right=False)\n",
    "\n",
    "## Function | Calulcate survival rates\n",
    "def calculate_percentages(data, column):\n",
    "    counts = data.groupby([column, 'Survived']).size().unstack(fill_value=0)\n",
    "    percentages = counts.div(counts.sum(axis=1), axis=0) * 100\n",
    "\n",
    "    return percentages\n",
    "\n",
    "## Calculate rates for each feature\n",
    "sex_percentages = calculate_percentages(df, 'Sex')\n",
    "pclass_percentages = calculate_percentages(df, 'Pclass')\n",
    "parch_percentages = calculate_percentages(df, 'Parch')\n",
    "age_group_percentages = calculate_percentages(df, 'AgeGroup')\n",
    "embarked_percentages = calculate_percentages(df, 'Embarked')\n",
    "titles_percentages = calculate_percentages(df, 'Titles')\n",
    "\n",
    "## Create a 2x3 subplot\n",
    "fig, axes = plt.subplots(2, 3, figsize=(15, 10))\n",
    "\n",
    "## Plot 1: Sex\n",
    "sex_percentages.plot(kind='bar', stacked=True, ax=axes[0, 0])\n",
    "axes[0, 0].set_title('Survival Percentage by Sex')\n",
    "axes[0, 0].set_xlabel('Sex')\n",
    "axes[0, 0].set_ylabel('Percentage')\n",
    "axes[0, 0].legend(title='Survived', labels=['No', 'Yes'])\n",
    "\n",
    "## Plot 2: Pclass\n",
    "pclass_percentages.plot(kind='bar', stacked=True, ax=axes[0, 1])\n",
    "axes[0, 1].set_title('Survival Percentage by Pclass')\n",
    "axes[0, 1].set_xlabel('Pclass')\n",
    "axes[0, 1].set_ylabel('Percentage')\n",
    "axes[0, 1].legend(title='Survived', labels=['No', 'Yes'])\n",
    "\n",
    "## Plot 3: Parch\n",
    "parch_percentages.plot(kind='bar', stacked=True, ax=axes[1, 0])\n",
    "axes[1, 0].set_title('Survival Percentage by Parch')\n",
    "axes[1, 0].set_xlabel('Parch')\n",
    "axes[1, 0].set_ylabel('Percentage')\n",
    "axes[1, 0].legend(title='Survived', labels=['No', 'Yes'])\n",
    "\n",
    "## Plot 4: Age Group\n",
    "age_group_percentages.plot(kind='bar', stacked=True, ax=axes[1, 1])\n",
    "axes[1, 1].set_title('Survival Percentage by Age Group')\n",
    "axes[1, 1].set_xlabel('Age Group')\n",
    "axes[1, 1].set_ylabel('Percentage')\n",
    "axes[1, 1].legend(title='Survived', labels=['No', 'Yes'])\n",
    "axes[1, 1].tick_params(axis='x', rotation=45)\n",
    "\n",
    "## Plot 5: Embarked\n",
    "embarked_percentages.plot(kind='bar', stacked=True, ax=axes[0, 2])\n",
    "axes[0, 2].set_title('Survival Percentage by Embarked')\n",
    "axes[0, 2].set_xlabel('Embarked')\n",
    "axes[0, 2].set_ylabel('Percentage')\n",
    "axes[0, 2].legend(title='Survived', labels=['No', 'Yes'])\n",
    "\n",
    "## Plot 6: Titles\n",
    "titles_percentages.plot(kind='bar', stacked=True, ax=axes[1, 2])\n",
    "axes[1, 2].set_title('Survival Percentage by Title')\n",
    "axes[1, 2].set_xlabel('Title')\n",
    "axes[1, 2].set_ylabel('Percentage')\n",
    "axes[1, 2].legend(title='Survived', labels=['No', 'Yes'])\n",
    "\n",
    "## Plot\n",
    "plt.tight_layout()\n",
    "plt.show()"
   ]
  },
  {
   "cell_type": "code",
   "execution_count": 216,
   "metadata": {},
   "outputs": [
    {
     "data": {
      "text/html": [
       "<div>\n",
       "<style scoped>\n",
       "    .dataframe tbody tr th:only-of-type {\n",
       "        vertical-align: middle;\n",
       "    }\n",
       "\n",
       "    .dataframe tbody tr th {\n",
       "        vertical-align: top;\n",
       "    }\n",
       "\n",
       "    .dataframe thead th {\n",
       "        text-align: right;\n",
       "    }\n",
       "</style>\n",
       "<table border=\"1\" class=\"dataframe\">\n",
       "  <thead>\n",
       "    <tr style=\"text-align: right;\">\n",
       "      <th></th>\n",
       "      <th>PassengerId</th>\n",
       "      <th>Survived</th>\n",
       "      <th>Pclass</th>\n",
       "      <th>Name</th>\n",
       "      <th>Sex</th>\n",
       "      <th>Age</th>\n",
       "      <th>SibSp</th>\n",
       "      <th>Parch</th>\n",
       "      <th>Ticket</th>\n",
       "      <th>Fare</th>\n",
       "      <th>Cabin</th>\n",
       "      <th>Embarked</th>\n",
       "      <th>Titles</th>\n",
       "      <th>AgeGroup</th>\n",
       "    </tr>\n",
       "  </thead>\n",
       "  <tbody>\n",
       "    <tr>\n",
       "      <th>61</th>\n",
       "      <td>62</td>\n",
       "      <td>1</td>\n",
       "      <td>1</td>\n",
       "      <td>Icard, Miss. Amelie</td>\n",
       "      <td>female</td>\n",
       "      <td>38.0</td>\n",
       "      <td>0</td>\n",
       "      <td>0</td>\n",
       "      <td>113572</td>\n",
       "      <td>80.0</td>\n",
       "      <td>B28</td>\n",
       "      <td>NaN</td>\n",
       "      <td>Miss</td>\n",
       "      <td>35-39</td>\n",
       "    </tr>\n",
       "    <tr>\n",
       "      <th>829</th>\n",
       "      <td>830</td>\n",
       "      <td>1</td>\n",
       "      <td>1</td>\n",
       "      <td>Stone, Mrs. George Nelson (Martha Evelyn)</td>\n",
       "      <td>female</td>\n",
       "      <td>62.0</td>\n",
       "      <td>0</td>\n",
       "      <td>0</td>\n",
       "      <td>113572</td>\n",
       "      <td>80.0</td>\n",
       "      <td>B28</td>\n",
       "      <td>NaN</td>\n",
       "      <td>Mrs</td>\n",
       "      <td>60-64</td>\n",
       "    </tr>\n",
       "  </tbody>\n",
       "</table>\n",
       "</div>"
      ],
      "text/plain": [
       "     PassengerId  Survived  Pclass                                       Name  \\\n",
       "61            62         1       1                        Icard, Miss. Amelie   \n",
       "829          830         1       1  Stone, Mrs. George Nelson (Martha Evelyn)   \n",
       "\n",
       "        Sex   Age  SibSp  Parch  Ticket  Fare Cabin Embarked Titles AgeGroup  \n",
       "61   female  38.0      0      0  113572  80.0   B28      NaN   Miss    35-39  \n",
       "829  female  62.0      0      0  113572  80.0   B28      NaN    Mrs    60-64  "
      ]
     },
     "execution_count": 216,
     "metadata": {},
     "output_type": "execute_result"
    }
   ],
   "source": [
    "# Exploration | Identify NaN in Embarked\n",
    "df[df['Embarked'].isnull()]"
   ]
  },
  {
   "cell_type": "code",
   "execution_count": 217,
   "metadata": {},
   "outputs": [
    {
     "name": "stdout",
     "output_type": "stream",
     "text": [
      "<class 'pandas.core.frame.DataFrame'>\n",
      "RangeIndex: 891 entries, 0 to 890\n",
      "Data columns (total 14 columns):\n",
      " #   Column       Non-Null Count  Dtype   \n",
      "---  ------       --------------  -----   \n",
      " 0   PassengerId  891 non-null    int64   \n",
      " 1   Survived     891 non-null    int64   \n",
      " 2   Pclass       891 non-null    int64   \n",
      " 3   Name         891 non-null    object  \n",
      " 4   Sex          891 non-null    object  \n",
      " 5   Age          714 non-null    float64 \n",
      " 6   SibSp        891 non-null    int64   \n",
      " 7   Parch        891 non-null    int64   \n",
      " 8   Ticket       891 non-null    object  \n",
      " 9   Fare         891 non-null    float64 \n",
      " 10  Cabin        204 non-null    object  \n",
      " 11  Embarked     891 non-null    object  \n",
      " 12  Titles       891 non-null    object  \n",
      " 13  AgeGroup     713 non-null    category\n",
      "dtypes: category(1), float64(2), int64(5), object(6)\n",
      "memory usage: 92.2+ KB\n"
     ]
    },
    {
     "data": {
      "text/plain": [
       "'\\nMartha Evelyn Stone: Titanic Survivor. (1996, September 1). Encyclopedia Titanica. https://www.encyclopedia-titanica.org/titanic-survivor/martha-evelyn-stone.html\\nRose Amélie Icard: Titanic Survivor. (1996, September 1). Encyclopedia Titanica. https://www.encyclopedia-titanica.org/titanic-survivor/amelia-icard.html\\n'"
      ]
     },
     "execution_count": 217,
     "metadata": {},
     "output_type": "execute_result"
    }
   ],
   "source": [
    "# Cleansing | Preliminar Nan handling in Embarked:  Replace with real researched data.\n",
    "df['Embarked'].fillna('S', inplace=True)\n",
    "df.info()\n",
    "\"\"\"\n",
    "Martha Evelyn Stone: Titanic Survivor. (1996, September 1). Encyclopedia Titanica. https://www.encyclopedia-titanica.org/titanic-survivor/martha-evelyn-stone.html\n",
    "Rose Amélie Icard: Titanic Survivor. (1996, September 1). Encyclopedia Titanica. https://www.encyclopedia-titanica.org/titanic-survivor/amelia-icard.html\n",
    "\"\"\""
   ]
  },
  {
   "cell_type": "code",
   "execution_count": 218,
   "metadata": {},
   "outputs": [
    {
     "name": "stdout",
     "output_type": "stream",
     "text": [
      "<class 'pandas.core.frame.DataFrame'>\n",
      "RangeIndex: 891 entries, 0 to 890\n",
      "Data columns (total 12 columns):\n",
      " #   Column       Non-Null Count  Dtype   \n",
      "---  ------       --------------  -----   \n",
      " 0   PassengerId  891 non-null    int64   \n",
      " 1   Survived     891 non-null    int64   \n",
      " 2   Pclass       891 non-null    int64   \n",
      " 3   Name         891 non-null    object  \n",
      " 4   Sex          891 non-null    object  \n",
      " 5   Age          714 non-null    float64 \n",
      " 6   SibSp        891 non-null    int64   \n",
      " 7   Parch        891 non-null    int64   \n",
      " 8   Fare         891 non-null    float64 \n",
      " 9   Embarked     891 non-null    object  \n",
      " 10  Titles       891 non-null    object  \n",
      " 11  AgeGroup     713 non-null    category\n",
      "dtypes: category(1), float64(2), int64(5), object(4)\n",
      "memory usage: 78.2+ KB\n"
     ]
    }
   ],
   "source": [
    "# Cleansing | Feature removal\n",
    "df.drop(\"Cabin\", axis = 1, inplace = True) # Drop due to excesive amount of NaNs\n",
    "df.drop(\"Ticket\", axis = 1, inplace = True) # Drop due to to management difficulty\n",
    "df.info()"
   ]
  },
  {
   "cell_type": "markdown",
   "metadata": {},
   "source": [
    "**Categorical Data:**\n",
    "- Pclass: Ordinal\n",
    "- Sex: Binary\n",
    "- Embarked: Nominal\n",
    "- Titles: Nominal"
   ]
  },
  {
   "cell_type": "code",
   "execution_count": 219,
   "metadata": {},
   "outputs": [],
   "source": [
    "# Preprocessing | Categorical data handling\n",
    "from sklearn.preprocessing import LabelEncoder\n",
    "\n",
    "## Binary data: Label Encoding\n",
    "leS = LabelEncoder()\n",
    "df[\"Sex\"] = leS.fit_transform(df[\"Sex\"]) # 1: male, 2: female\n",
    "\n",
    "## Re order Pclass | 1: lower, 2: medium, 3: upper\n",
    "df['Pclass'] = df['Pclass'].replace({1: 'upper', 2: 'medium', 3: 'lower'})\n",
    "df['Pclass'] = df['Pclass'].replace({'upper': 3, 'medium': 2, 'lower': 1})\n",
    "\n",
    "## Nominal data: One hot encoding\n",
    "### Embarked\n",
    "embarked = pd.get_dummies(df['Embarked'])\n",
    "df = pd.concat([df, embarked], axis = 1)\n",
    "df.drop('Embarked', axis=1, inplace=True)\n",
    "\n",
    "### Title\n",
    "title_mapping = { # CST: Common Title, PT: Professional Title, NT: Nobiliy Titles, MT: MIllitary Titles\n",
    "    'Mr': 'CT',\n",
    "    'Miss': 'CT',\n",
    "    'Mrs': 'CT',\n",
    "    'Ms': 'CT',\n",
    "    'Dr': 'PT',\n",
    "    'Rev': 'PT',\n",
    "    'the Countess': 'NT',\n",
    "    'Sir': 'NT',\n",
    "    'Lady': 'NT',\n",
    "    'Don': 'NT',\n",
    "    'Jonkheer': 'NT',\n",
    "    'Major': 'MT',\n",
    "    'Col': 'MT',\n",
    "    'Capt': 'MT',\n",
    "    'Master': 'CT',\n",
    "    'Mlle': 'CT',\n",
    "    'Mme': 'CT'\n",
    "}\n",
    "# Group titles\n",
    "titles_mapped = pd.get_dummies(df['Titles'].replace(title_mapping))\n",
    "df = pd.concat([df, titles_mapped], axis = 1) # .iloc[:, :-1]"
   ]
  },
  {
   "cell_type": "code",
   "execution_count": 220,
   "metadata": {},
   "outputs": [
    {
     "name": "stdout",
     "output_type": "stream",
     "text": [
      "F1 Score: 0.7826086956521738\n",
      "   Feature  Coefficient\n",
      "1      Sex    -2.317112\n",
      "0   Pclass     1.059715\n",
      "2      Age    -0.641752\n",
      "3    SibSp    -0.401230\n",
      "7        Q    -0.336596\n",
      "10      MT     0.303799\n",
      "12      PT    -0.280902\n",
      "6        C     0.237739\n",
      "11      NT    -0.236133\n",
      "9       CT     0.208747\n",
      "8        S     0.094367\n",
      "4    Parch     0.052758\n",
      "5     Fare     0.003009\n"
     ]
    }
   ],
   "source": [
    "# Exploration | Identify significant features\n",
    "\"\"\"\n",
    "A logistic regression model is trained on all variables, and those without significant impact, meaning a low coefficient, on \n",
    "the dataset are discarded or transformed.\n",
    "\"\"\"\n",
    "\n",
    "from sklearn.model_selection import train_test_split\n",
    "from sklearn.linear_model import LogisticRegression\n",
    "from sklearn.metrics import f1_score\n",
    "from sklearn.preprocessing import StandardScaler\n",
    "\n",
    "## Drop missing values\n",
    "df_de = df.dropna()\n",
    "\n",
    "## Data separation and segmentation\n",
    "X = df_de.drop(columns=[df_de.columns[0], 'Titles', 'Survived', 'AgeGroup', 'Name'])\n",
    "y = df_de.iloc[:, 1]\n",
    "columns_to_standardize = [\"Age\", 'Parch', 'SibSp']\n",
    "scaler = StandardScaler()\n",
    "X[columns_to_standardize] = scaler.fit_transform(X[columns_to_standardize])\n",
    "X_train, X_test, y_train, y_test = train_test_split(X, y, test_size=0.3, random_state = seed)\n",
    "\n",
    "## Initialize and train the logistic regression model\n",
    "model = LogisticRegression(max_iter=500)\n",
    "model.fit(X_train, y_train)\n",
    "\n",
    "## Predict on the test set\n",
    "y_pred = model.predict(X_test)\n",
    "\n",
    "## Calculate the F1 score\n",
    "f1 = f1_score(y_test, y_pred)\n",
    "\n",
    "## Obtain and rank the coefficeints\n",
    "coefficients = model.coef_[0]\n",
    "coef_df = pd.DataFrame({'Feature': X.columns, 'Coefficient': coefficients})\n",
    "coef_df['Absolute Coefficient'] = coef_df['Coefficient'].abs()\n",
    "coef_df = coef_df.sort_values(by='Absolute Coefficient', ascending=False)\n",
    "\n",
    "## Display the results\n",
    "print(f\"F1 Score: {f1}\")\n",
    "print(coef_df[['Feature', 'Coefficient']])"
   ]
  },
  {
   "cell_type": "code",
   "execution_count": 221,
   "metadata": {},
   "outputs": [],
   "source": [
    "# Cleansing | Remove features\n",
    "df.drop(\"Fare\", axis = 1, inplace = True) # Drop due to low significance\n",
    "df.drop(\"S\", axis = 1, inplace = True) # Drop due to low significance and multiollinearity\n",
    "df.drop(\"CT\", axis = 1, inplace = True) # Drop due to multicollinearity"
   ]
  },
  {
   "cell_type": "code",
   "execution_count": 222,
   "metadata": {},
   "outputs": [],
   "source": [
    "# Preprocessing | Family Size = Parch + SibSp + current passanger\n",
    "df['Family_Size'] = df['SibSp'] + df['Parch'] + 1\n",
    "df.drop(\"Parch\", axis = 1, inplace = True) # Drop due to redundancy\n",
    "df.drop(\"SibSp\", axis = 1, inplace = True) # Drop due to redundancy"
   ]
  },
  {
   "cell_type": "code",
   "execution_count": 223,
   "metadata": {},
   "outputs": [],
   "source": [
    "# Preprocessing | Replace index with PassengerId\n",
    "df.set_index(df.columns[0], inplace=True)"
   ]
  },
  {
   "cell_type": "code",
   "execution_count": 224,
   "metadata": {},
   "outputs": [
    {
     "name": "stdout",
     "output_type": "stream",
     "text": [
      "Titles\n",
      "Dr          1\n",
      "Master      4\n",
      "Miss       36\n",
      "Mr        119\n",
      "Mrs        17\n",
      "dtype: int64\n"
     ]
    }
   ],
   "source": [
    "# Exploration | Identify missing age values per title\n",
    "nan_age_grouped = df[df['Age'].isna()].groupby('Titles').size()\n",
    "\n",
    "print(nan_age_grouped)"
   ]
  },
  {
   "cell_type": "code",
   "execution_count": 225,
   "metadata": {},
   "outputs": [
    {
     "data": {
      "image/png": "[encoded data removed]",
      "text/plain": [
       "<Figure size 1200x1000 with 4 Axes>"
      ]
     },
     "metadata": {},
     "output_type": "display_data"
    }
   ],
   "source": [
    "# Data Exploration | Identify outliers in age per titles with missing values\n",
    "filtered_df = df[df['Titles'].isin(['Master', 'Miss', 'Mr', 'Mrs'])]\n",
    "\n",
    "## Create a 2x2 grid of boxplots\n",
    "fig, axes = plt.subplots(2, 2, figsize=(12, 10))\n",
    "\n",
    "# Plot each title\n",
    "titles = ['Master', 'Miss', 'Mr', 'Mrs']\n",
    "for ax, title in zip(axes.flatten(), titles):\n",
    "    ax.boxplot(filtered_df[filtered_df['Titles'] == title]['Age'].dropna())\n",
    "    ax.set_title(f'Distribución de edades por {title}')\n",
    "    ax.set_ylabel('Edad')\n",
    "    ax.set_xlabel(title)\n",
    "\n",
    "plt.tight_layout()\n",
    "plt.show()\n"
   ]
  },
  {
   "cell_type": "code",
   "execution_count": 226,
   "metadata": {},
   "outputs": [
    {
     "name": "stdout",
     "output_type": "stream",
     "text": [
      "                   mean  median\n",
      "Titles                         \n",
      "Capt          70.000000    70.0\n",
      "Col           58.000000    58.0\n",
      "Don           40.000000    40.0\n",
      "Dr            42.000000    46.5\n",
      "Jonkheer      38.000000    38.0\n",
      "Lady          48.000000    48.0\n",
      "Major         48.500000    48.5\n",
      "Master         4.574167     3.5\n",
      "Miss          21.845638    21.0\n",
      "Mr            32.368090    30.0\n",
      "Mrs           35.788991    35.0\n",
      "Rev           43.166667    46.5\n",
      "Sir           49.000000    49.0\n",
      "the Countess  33.000000    33.0\n"
     ]
    }
   ],
   "source": [
    "# Exploration | Identify measures of centrality of age by title\n",
    "centrality_measures = df.groupby('Titles')['Age'].agg(['mean', 'median'])\n",
    "\n",
    "print(centrality_measures)"
   ]
  },
  {
   "cell_type": "code",
   "execution_count": 227,
   "metadata": {},
   "outputs": [],
   "source": [
    "# Cleansing | Replace missing age values with measures of centrality\n",
    "df.loc[(df['Titles'] == 'Master') & (df['Age'].isna()), 'Age'] = 4.6 # Mean\n",
    "df.loc[(df['Titles'] == 'Miss') & (df['Age'].isna()), 'Age'] = 21.0 # Median\n",
    "df.loc[(df['Titles'] == 'Mr') & (df['Age'].isna()), 'Age'] = 30.0 # Median\n",
    "df.loc[(df['Titles'] == 'Mrs') & (df['Age'].isna()), 'Age'] = 35.8 # Mean"
   ]
  },
  {
   "cell_type": "code",
   "execution_count": 228,
   "metadata": {},
   "outputs": [
    {
     "name": "stdout",
     "output_type": "stream",
     "text": [
      "PassengerId\n",
      "767    Brewe, Dr. Arthur Jackson\n",
      "Name: Name, dtype: object\n"
     ]
    }
   ],
   "source": [
    "# Exploration | Identify Dr title with missing values\n",
    "missing_values_dr = df.loc[(df['Titles'] == 'Dr') & (df.isna().any(axis=1))]\n",
    "print(missing_values_dr[\"Name\"])"
   ]
  },
  {
   "cell_type": "code",
   "execution_count": 229,
   "metadata": {},
   "outputs": [
    {
     "data": {
      "text/plain": [
       "'\\nArthur Jackson Brewe: Titanic Victim. (1996, September 1). Encyclopedia Titanica. https://www.encyclopedia-titanica.org/titanic-victim/arthur-jackson-brewe.html\\n'"
      ]
     },
     "execution_count": 229,
     "metadata": {},
     "output_type": "execute_result"
    }
   ],
   "source": [
    "# Cleansing | Replace missing age of Dr. Jackson with researched value\n",
    "df.loc[df['Titles'] == 'Dr', ['Age']] = df.loc[df['Titles'] == 'Dr', ['Age']].fillna(46)\n",
    "\n",
    "'''\n",
    "Arthur Jackson Brewe: Titanic Victim. (1996, September 1). Encyclopedia Titanica. https://www.encyclopedia-titanica.org/titanic-victim/arthur-jackson-brewe.html\n",
    "'''"
   ]
  },
  {
   "cell_type": "code",
   "execution_count": 230,
   "metadata": {},
   "outputs": [
    {
     "data": {
      "text/html": [
       "<div>\n",
       "<style scoped>\n",
       "    .dataframe tbody tr th:only-of-type {\n",
       "        vertical-align: middle;\n",
       "    }\n",
       "\n",
       "    .dataframe tbody tr th {\n",
       "        vertical-align: top;\n",
       "    }\n",
       "\n",
       "    .dataframe thead th {\n",
       "        text-align: right;\n",
       "    }\n",
       "</style>\n",
       "<table border=\"1\" class=\"dataframe\">\n",
       "  <thead>\n",
       "    <tr style=\"text-align: right;\">\n",
       "      <th></th>\n",
       "      <th>Survived</th>\n",
       "      <th>Pclass</th>\n",
       "      <th>Name</th>\n",
       "      <th>Sex</th>\n",
       "      <th>Age</th>\n",
       "      <th>Titles</th>\n",
       "      <th>AgeGroup</th>\n",
       "      <th>C</th>\n",
       "      <th>Q</th>\n",
       "      <th>MT</th>\n",
       "      <th>NT</th>\n",
       "      <th>PT</th>\n",
       "      <th>Family_Size</th>\n",
       "    </tr>\n",
       "    <tr>\n",
       "      <th>PassengerId</th>\n",
       "      <th></th>\n",
       "      <th></th>\n",
       "      <th></th>\n",
       "      <th></th>\n",
       "      <th></th>\n",
       "      <th></th>\n",
       "      <th></th>\n",
       "      <th></th>\n",
       "      <th></th>\n",
       "      <th></th>\n",
       "      <th></th>\n",
       "      <th></th>\n",
       "      <th></th>\n",
       "    </tr>\n",
       "  </thead>\n",
       "  <tbody>\n",
       "    <tr>\n",
       "      <th>1</th>\n",
       "      <td>0</td>\n",
       "      <td>1</td>\n",
       "      <td>Braund, Mr. Owen Harris</td>\n",
       "      <td>1</td>\n",
       "      <td>22.0</td>\n",
       "      <td>Mr</td>\n",
       "      <td>20-24</td>\n",
       "      <td>0</td>\n",
       "      <td>0</td>\n",
       "      <td>0</td>\n",
       "      <td>0</td>\n",
       "      <td>0</td>\n",
       "      <td>2</td>\n",
       "    </tr>\n",
       "    <tr>\n",
       "      <th>2</th>\n",
       "      <td>1</td>\n",
       "      <td>3</td>\n",
       "      <td>Cumings, Mrs. John Bradley (Florence Briggs Th...</td>\n",
       "      <td>0</td>\n",
       "      <td>38.0</td>\n",
       "      <td>Mrs</td>\n",
       "      <td>35-39</td>\n",
       "      <td>1</td>\n",
       "      <td>0</td>\n",
       "      <td>0</td>\n",
       "      <td>0</td>\n",
       "      <td>0</td>\n",
       "      <td>2</td>\n",
       "    </tr>\n",
       "    <tr>\n",
       "      <th>3</th>\n",
       "      <td>1</td>\n",
       "      <td>1</td>\n",
       "      <td>Heikkinen, Miss. Laina</td>\n",
       "      <td>0</td>\n",
       "      <td>26.0</td>\n",
       "      <td>Miss</td>\n",
       "      <td>25-29</td>\n",
       "      <td>0</td>\n",
       "      <td>0</td>\n",
       "      <td>0</td>\n",
       "      <td>0</td>\n",
       "      <td>0</td>\n",
       "      <td>1</td>\n",
       "    </tr>\n",
       "    <tr>\n",
       "      <th>4</th>\n",
       "      <td>1</td>\n",
       "      <td>3</td>\n",
       "      <td>Futrelle, Mrs. Jacques Heath (Lily May Peel)</td>\n",
       "      <td>0</td>\n",
       "      <td>35.0</td>\n",
       "      <td>Mrs</td>\n",
       "      <td>35-39</td>\n",
       "      <td>0</td>\n",
       "      <td>0</td>\n",
       "      <td>0</td>\n",
       "      <td>0</td>\n",
       "      <td>0</td>\n",
       "      <td>2</td>\n",
       "    </tr>\n",
       "    <tr>\n",
       "      <th>5</th>\n",
       "      <td>0</td>\n",
       "      <td>1</td>\n",
       "      <td>Allen, Mr. William Henry</td>\n",
       "      <td>1</td>\n",
       "      <td>35.0</td>\n",
       "      <td>Mr</td>\n",
       "      <td>35-39</td>\n",
       "      <td>0</td>\n",
       "      <td>0</td>\n",
       "      <td>0</td>\n",
       "      <td>0</td>\n",
       "      <td>0</td>\n",
       "      <td>1</td>\n",
       "    </tr>\n",
       "  </tbody>\n",
       "</table>\n",
       "</div>"
      ],
      "text/plain": [
       "             Survived  Pclass  \\\n",
       "PassengerId                     \n",
       "1                   0       1   \n",
       "2                   1       3   \n",
       "3                   1       1   \n",
       "4                   1       3   \n",
       "5                   0       1   \n",
       "\n",
       "                                                          Name  Sex   Age  \\\n",
       "PassengerId                                                                 \n",
       "1                                      Braund, Mr. Owen Harris    1  22.0   \n",
       "2            Cumings, Mrs. John Bradley (Florence Briggs Th...    0  38.0   \n",
       "3                                       Heikkinen, Miss. Laina    0  26.0   \n",
       "4                 Futrelle, Mrs. Jacques Heath (Lily May Peel)    0  35.0   \n",
       "5                                     Allen, Mr. William Henry    1  35.0   \n",
       "\n",
       "            Titles AgeGroup  C  Q  MT  NT  PT  Family_Size  \n",
       "PassengerId                                                 \n",
       "1               Mr    20-24  0  0   0   0   0            2  \n",
       "2              Mrs    35-39  1  0   0   0   0            2  \n",
       "3             Miss    25-29  0  0   0   0   0            1  \n",
       "4              Mrs    35-39  0  0   0   0   0            2  \n",
       "5               Mr    35-39  0  0   0   0   0            1  "
      ]
     },
     "execution_count": 230,
     "metadata": {},
     "output_type": "execute_result"
    }
   ],
   "source": [
    "df.head()"
   ]
  },
  {
   "cell_type": "code",
   "execution_count": 231,
   "metadata": {},
   "outputs": [],
   "source": [
    "# Preprocessing | Standarize selected features\n",
    "columns_to_standardize = [\"Age\", 'Family_Size']\n",
    "scaler = StandardScaler()\n",
    "df[columns_to_standardize] = scaler.fit_transform(df[columns_to_standardize])"
   ]
  },
  {
   "cell_type": "code",
   "execution_count": 232,
   "metadata": {},
   "outputs": [],
   "source": [
    "# Preprocessing | Create datasets with selected features\n",
    "X = df.drop([\"Name\", \"Survived\", \"AgeGroup\", \"Titles\"], axis = 1).copy()\n",
    "X.to_csv(\"X_train_C.csv\")\n",
    "y = pd.DataFrame(df[\"Survived\"])\n",
    "y.to_csv(\"y_train_C.csv\")"
   ]
  },
  {
   "cell_type": "markdown",
   "metadata": {},
   "source": [
    "### Test Dataset"
   ]
  },
  {
   "cell_type": "code",
   "execution_count": 233,
   "metadata": {},
   "outputs": [
    {
     "name": "stdout",
     "output_type": "stream",
     "text": [
      "<class 'pandas.core.frame.DataFrame'>\n",
      "RangeIndex: 418 entries, 0 to 417\n",
      "Data columns (total 11 columns):\n",
      " #   Column       Non-Null Count  Dtype  \n",
      "---  ------       --------------  -----  \n",
      " 0   PassengerId  418 non-null    int64  \n",
      " 1   Pclass       418 non-null    int64  \n",
      " 2   Name         418 non-null    object \n",
      " 3   Sex          418 non-null    object \n",
      " 4   Age          332 non-null    float64\n",
      " 5   SibSp        418 non-null    int64  \n",
      " 6   Parch        418 non-null    int64  \n",
      " 7   Ticket       418 non-null    object \n",
      " 8   Fare         417 non-null    float64\n",
      " 9   Cabin        91 non-null     object \n",
      " 10  Embarked     418 non-null    object \n",
      "dtypes: float64(2), int64(4), object(5)\n",
      "memory usage: 36.1+ KB\n"
     ]
    }
   ],
   "source": [
    "# Load dataset\n",
    "df_test = pd.read_csv(\"test.csv\")\n",
    "df_test.info()"
   ]
  },
  {
   "cell_type": "code",
   "execution_count": 234,
   "metadata": {},
   "outputs": [],
   "source": [
    "# Preporcessing | Extract titles for each passanger and store them in new column\n",
    "titles_test = []\n",
    "for name in df_test[\"Name\"]:\n",
    "    titles_test.append(\"\".join(re.findall(r',([^.]*)\\.', name))[1:])\n",
    "df_test[\"Titles\"] = titles_test"
   ]
  },
  {
   "cell_type": "code",
   "execution_count": 235,
   "metadata": {},
   "outputs": [],
   "source": [
    "# Cleansing | Feature removal\n",
    "df_test.drop(\"Cabin\", axis = 1, inplace = True)\n",
    "df_test.drop(\"Ticket\", axis = 1, inplace = True)"
   ]
  },
  {
   "cell_type": "code",
   "execution_count": 236,
   "metadata": {},
   "outputs": [],
   "source": [
    "## Binary data: Label Encoding\n",
    "leS = LabelEncoder()\n",
    "df_test[\"Sex\"] = leS.fit_transform(df_test[\"Sex\"]) # 1: male, 2: female\n",
    "\n",
    "## Re order Pclass | 1: lower, 2: medium, 3: upper\n",
    "df_test['Pclass'] = df_test['Pclass'].replace({1: 'upper', 2: 'medium', 3: 'lower'})\n",
    "df_test['Pclass'] = df_test['Pclass'].replace({'upper': 3, 'medium': 2, 'lower': 1})\n",
    "\n",
    "## Nominal data: One hot encoding\n",
    "### Embarked\n",
    "embarked_test = pd.get_dummies(df_test['Embarked'])\n",
    "df_test = pd.concat([df_test, embarked_test], axis = 1)\n",
    "df_test.drop('Embarked', axis=1, inplace=True)\n",
    "\n",
    "### Title\n",
    "title_mapping_test = { # CST: Common Title, PT: Professional Title, NT: Nobiliy Titles, MT: MIllitary Titles\n",
    "    'Mr': 'CT',\n",
    "    'Miss': 'CT',\n",
    "    'Mrs': 'CT',\n",
    "    'Ms': 'CT',\n",
    "    'Dr': 'PT',\n",
    "    'Rev': 'PT',\n",
    "    'the Countess': 'NT',\n",
    "    'Sir': 'NT',\n",
    "    'Lady': 'NT',\n",
    "    'Don': 'NT',\n",
    "    'Jonkheer': 'NT',\n",
    "    'Major': 'MT',\n",
    "    'Col': 'MT',\n",
    "    'Capt': 'MT',\n",
    "    'Master': 'CT',\n",
    "    'Mlle': 'CT',\n",
    "    'Mme': 'CT'\n",
    "}\n",
    "# Group titles\n",
    "titles_mapped_test = pd.get_dummies(df_test['Titles'].replace(title_mapping_test))\n",
    "df_test = pd.concat([df_test, titles_mapped_test], axis = 1) # .iloc[:, :-1]"
   ]
  },
  {
   "cell_type": "code",
   "execution_count": 237,
   "metadata": {},
   "outputs": [],
   "source": [
    "# Cleansing | Remove features\n",
    "df_test.drop(\"Fare\", axis = 1, inplace = True) \n",
    "df_test.drop(\"S\", axis = 1, inplace = True) \n",
    "df_test.drop(\"CT\", axis = 1, inplace = True)"
   ]
  },
  {
   "cell_type": "code",
   "execution_count": 238,
   "metadata": {},
   "outputs": [],
   "source": [
    "# Preprocessing | Family Size = Parch + SibSp + current passanger\n",
    "df_test['Family_Size'] = df_test['SibSp'] + df_test['Parch'] + 1\n",
    "df_test.drop(\"Parch\", axis = 1, inplace = True) # Drop due to redundancy\n",
    "df_test.drop(\"SibSp\", axis = 1, inplace = True) # Drop due to redundancy"
   ]
  },
  {
   "cell_type": "code",
   "execution_count": 239,
   "metadata": {},
   "outputs": [
    {
     "data": {
      "text/html": [
       "<div>\n",
       "<style scoped>\n",
       "    .dataframe tbody tr th:only-of-type {\n",
       "        vertical-align: middle;\n",
       "    }\n",
       "\n",
       "    .dataframe tbody tr th {\n",
       "        vertical-align: top;\n",
       "    }\n",
       "\n",
       "    .dataframe thead th {\n",
       "        text-align: right;\n",
       "    }\n",
       "</style>\n",
       "<table border=\"1\" class=\"dataframe\">\n",
       "  <thead>\n",
       "    <tr style=\"text-align: right;\">\n",
       "      <th></th>\n",
       "      <th>PassengerId</th>\n",
       "      <th>Pclass</th>\n",
       "      <th>Name</th>\n",
       "      <th>Sex</th>\n",
       "      <th>Age</th>\n",
       "      <th>Titles</th>\n",
       "      <th>C</th>\n",
       "      <th>Q</th>\n",
       "      <th>Dona</th>\n",
       "      <th>MT</th>\n",
       "      <th>PT</th>\n",
       "      <th>Family_Size</th>\n",
       "    </tr>\n",
       "  </thead>\n",
       "  <tbody>\n",
       "    <tr>\n",
       "      <th>0</th>\n",
       "      <td>892</td>\n",
       "      <td>1</td>\n",
       "      <td>Kelly, Mr. James</td>\n",
       "      <td>1</td>\n",
       "      <td>34.5</td>\n",
       "      <td>Mr</td>\n",
       "      <td>0</td>\n",
       "      <td>1</td>\n",
       "      <td>0</td>\n",
       "      <td>0</td>\n",
       "      <td>0</td>\n",
       "      <td>1</td>\n",
       "    </tr>\n",
       "    <tr>\n",
       "      <th>1</th>\n",
       "      <td>893</td>\n",
       "      <td>1</td>\n",
       "      <td>Wilkes, Mrs. James (Ellen Needs)</td>\n",
       "      <td>0</td>\n",
       "      <td>47.0</td>\n",
       "      <td>Mrs</td>\n",
       "      <td>0</td>\n",
       "      <td>0</td>\n",
       "      <td>0</td>\n",
       "      <td>0</td>\n",
       "      <td>0</td>\n",
       "      <td>2</td>\n",
       "    </tr>\n",
       "    <tr>\n",
       "      <th>2</th>\n",
       "      <td>894</td>\n",
       "      <td>2</td>\n",
       "      <td>Myles, Mr. Thomas Francis</td>\n",
       "      <td>1</td>\n",
       "      <td>62.0</td>\n",
       "      <td>Mr</td>\n",
       "      <td>0</td>\n",
       "      <td>1</td>\n",
       "      <td>0</td>\n",
       "      <td>0</td>\n",
       "      <td>0</td>\n",
       "      <td>1</td>\n",
       "    </tr>\n",
       "    <tr>\n",
       "      <th>3</th>\n",
       "      <td>895</td>\n",
       "      <td>1</td>\n",
       "      <td>Wirz, Mr. Albert</td>\n",
       "      <td>1</td>\n",
       "      <td>27.0</td>\n",
       "      <td>Mr</td>\n",
       "      <td>0</td>\n",
       "      <td>0</td>\n",
       "      <td>0</td>\n",
       "      <td>0</td>\n",
       "      <td>0</td>\n",
       "      <td>1</td>\n",
       "    </tr>\n",
       "    <tr>\n",
       "      <th>4</th>\n",
       "      <td>896</td>\n",
       "      <td>1</td>\n",
       "      <td>Hirvonen, Mrs. Alexander (Helga E Lindqvist)</td>\n",
       "      <td>0</td>\n",
       "      <td>22.0</td>\n",
       "      <td>Mrs</td>\n",
       "      <td>0</td>\n",
       "      <td>0</td>\n",
       "      <td>0</td>\n",
       "      <td>0</td>\n",
       "      <td>0</td>\n",
       "      <td>3</td>\n",
       "    </tr>\n",
       "  </tbody>\n",
       "</table>\n",
       "</div>"
      ],
      "text/plain": [
       "   PassengerId  Pclass                                          Name  Sex  \\\n",
       "0          892       1                              Kelly, Mr. James    1   \n",
       "1          893       1              Wilkes, Mrs. James (Ellen Needs)    0   \n",
       "2          894       2                     Myles, Mr. Thomas Francis    1   \n",
       "3          895       1                              Wirz, Mr. Albert    1   \n",
       "4          896       1  Hirvonen, Mrs. Alexander (Helga E Lindqvist)    0   \n",
       "\n",
       "    Age Titles  C  Q  Dona  MT  PT  Family_Size  \n",
       "0  34.5     Mr  0  1     0   0   0            1  \n",
       "1  47.0    Mrs  0  0     0   0   0            2  \n",
       "2  62.0     Mr  0  1     0   0   0            1  \n",
       "3  27.0     Mr  0  0     0   0   0            1  \n",
       "4  22.0    Mrs  0  0     0   0   0            3  "
      ]
     },
     "execution_count": 239,
     "metadata": {},
     "output_type": "execute_result"
    }
   ],
   "source": [
    "df_test.head()"
   ]
  },
  {
   "cell_type": "code",
   "execution_count": 240,
   "metadata": {},
   "outputs": [],
   "source": [
    "# Preprocessing | Replace index with PassengerId\n",
    "df_test.set_index(df_test.columns[0], inplace=True)"
   ]
  },
  {
   "cell_type": "code",
   "execution_count": 241,
   "metadata": {},
   "outputs": [
    {
     "name": "stdout",
     "output_type": "stream",
     "text": [
      "Titles\n",
      "Master     4\n",
      "Miss      14\n",
      "Mr        57\n",
      "Mrs       10\n",
      "Ms         1\n",
      "dtype: int64\n"
     ]
    }
   ],
   "source": [
    "# Exploration | Identify missing age values per title\n",
    "nan_age_grouped_test = df_test[df_test['Age'].isna()].groupby('Titles').size()\n",
    "\n",
    "print(nan_age_grouped_test)"
   ]
  },
  {
   "cell_type": "code",
   "execution_count": 242,
   "metadata": {},
   "outputs": [
    {
     "data": {
      "image/png": "[encoded data removed]",
      "text/plain": [
       "<Figure size 1200x1000 with 4 Axes>"
      ]
     },
     "metadata": {},
     "output_type": "display_data"
    }
   ],
   "source": [
    "# Data Exploration | Identify outliers in age per titles with missing values\n",
    "filtered_df = df_test[df_test['Titles'].isin(['Master', 'Miss', 'Mr', 'Mrs'])]\n",
    "\n",
    "## Create a 2x2 grid of boxplots\n",
    "fig, axes = plt.subplots(2, 2, figsize=(12, 10))\n",
    "\n",
    "# Plot each title\n",
    "titles = ['Master', 'Miss', 'Mr', 'Mrs']\n",
    "for ax, title in zip(axes.flatten(), titles):\n",
    "    ax.boxplot(filtered_df[filtered_df['Titles'] == title]['Age'].dropna())\n",
    "    ax.set_title(f'Distribución de edades por {title}')\n",
    "    ax.set_ylabel('Edad')\n",
    "    ax.set_xlabel(title)\n",
    "\n",
    "plt.tight_layout()\n",
    "plt.show()"
   ]
  },
  {
   "cell_type": "code",
   "execution_count": 243,
   "metadata": {},
   "outputs": [
    {
     "name": "stdout",
     "output_type": "stream",
     "text": [
      "             mean  median\n",
      "Titles                   \n",
      "Col     50.000000    50.0\n",
      "Dona    39.000000    39.0\n",
      "Dr      53.000000    53.0\n",
      "Master   7.406471     7.0\n",
      "Miss    21.774844    22.0\n",
      "Mr      32.000000    28.5\n",
      "Mrs     38.903226    36.5\n",
      "Ms            NaN     NaN\n",
      "Rev     35.500000    35.5\n"
     ]
    }
   ],
   "source": [
    "# Exploration | Identify measures of centrality of age by title\n",
    "centrality_measures = df_test.groupby('Titles')['Age'].agg(['mean', 'median'])\n",
    "\n",
    "print(centrality_measures)"
   ]
  },
  {
   "cell_type": "code",
   "execution_count": 244,
   "metadata": {},
   "outputs": [],
   "source": [
    "# Cleansing | Replace missing age values with measures of centrality\n",
    "df_test.loc[(df_test['Titles'] == 'Master') & (df_test['Age'].isna()), 'Age'] = 7.4 # Mean\n",
    "df_test.loc[(df_test['Titles'] == 'Miss') & (df_test['Age'].isna()), 'Age'] = 22.0 # Median\n",
    "df_test.loc[(df_test['Titles'] == 'Mr') & (df_test['Age'].isna()), 'Age'] = 32.0 # Median\n",
    "df_test.loc[(df_test['Titles'] == 'Mrs') & (df_test['Age'].isna()), 'Age'] = 38.9 # Mean"
   ]
  },
  {
   "cell_type": "code",
   "execution_count": 245,
   "metadata": {},
   "outputs": [
    {
     "name": "stdout",
     "output_type": "stream",
     "text": [
      "PassengerId\n",
      "980    O'Donoghue, Ms. Bridget\n",
      "Name: Name, dtype: object\n"
     ]
    }
   ],
   "source": [
    "# Exploration | Identify Ms title with missing values\n",
    "missing_values_dr = df_test.loc[(df_test['Titles'] == 'Ms') & (df_test.isna().any(axis=1))]\n",
    "print(missing_values_dr[\"Name\"])"
   ]
  },
  {
   "cell_type": "code",
   "execution_count": 246,
   "metadata": {},
   "outputs": [
    {
     "data": {
      "text/plain": [
       "'\\nEncyclopedia Titanica. “Bridget Donohoe: Titanic Victim,” September 1, 1996. https://www.encyclopedia-titanica.org/titanic-victim/bridget-donohoe.html.\\n'"
      ]
     },
     "execution_count": 246,
     "metadata": {},
     "output_type": "execute_result"
    }
   ],
   "source": [
    "# Cleansing | Replace missing age of Dr. Jackson with researched value\n",
    "df_test.loc[df_test['Titles'] == 'Ms', ['Age']] = df_test.loc[df_test['Titles'] == 'Ms', ['Age']].fillna(21)\n",
    "\n",
    "'''\n",
    "Encyclopedia Titanica. “Bridget Donohoe: Titanic Victim,” September 1, 1996. https://www.encyclopedia-titanica.org/titanic-victim/bridget-donohoe.html.\n",
    "'''"
   ]
  },
  {
   "cell_type": "code",
   "execution_count": 247,
   "metadata": {},
   "outputs": [],
   "source": [
    "# Preprocessing | Standarize selected features\n",
    "columns_to_standardize = [\"Age\", 'Family_Size']\n",
    "df_test[columns_to_standardize] = scaler.transform(df_test[columns_to_standardize])"
   ]
  },
  {
   "cell_type": "code",
   "execution_count": 248,
   "metadata": {},
   "outputs": [],
   "source": [
    "X_test = df_test.drop([\"Name\", \"Titles\"], axis = 1).copy()\n",
    "X_test.to_csv(\"X_test_C.csv\")"
   ]
  }
 ],
 "metadata": {
  "kernelspec": {
   "display_name": "Python 3",
   "language": "python",
   "name": "python3"
  },
  "language_info": {
   "codemirror_mode": {
    "name": "ipython",
    "version": 3
   },
   "file_extension": ".py",
   "mimetype": "text/x-python",
   "name": "python",
   "nbconvert_exporter": "python",
   "pygments_lexer": "ipython3",
   "version": "3.11.2"
  }
 },
 "nbformat": 4,
 "nbformat_minor": 2
}
