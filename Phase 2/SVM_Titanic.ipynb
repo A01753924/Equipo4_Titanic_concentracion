{
 "cells": [
  {
   "cell_type": "markdown",
   "metadata": {},
   "source": [
    "# Modelo SVM\n",
    "\n",
    "### Equipo 4:\n",
    "    Karla Andrea Palma Villanueva (A01754270)\n",
    "    Viviana Alanis Fraige (A01236316)\n",
    "    David Fernando Armendariz Torres (A01570813)\n",
    "    Alan Alberto Mota Yescas (A01753924)\n",
    "    Adrián Chávez Morales (A01568679)\n",
    "    Jose Manuel Armendáriz Mena (A01197583)"
   ]
  },
  {
   "cell_type": "code",
   "execution_count": null,
   "metadata": {},
   "outputs": [],
   "source": [
    "# Libraries used\n",
    "import pandas as pd # Database\n",
    "import numpy as np # Math\n",
    "import matplotlib.pyplot as plt # Graphs\n",
    "import random # Randomness\n",
    "from sklearn.model_selection import train_test_split  # Splits data into training and test sets\n",
    "from sklearn.svm import SVC # SVM method\n",
    "from sklearn.metrics import classification_report, confusion_matrix # Evaluates the classification model"
   ]
  },
  {
   "cell_type": "code",
   "execution_count": 1,
   "metadata": {},
   "outputs": [],
   "source": [
    "sd = 231 # Sets a seed value for the random number generator to ensure reproducibility\n",
    "random.seed(sd)  # Initializes the random number generator with the specified seed\n",
    "\n",
    "# Seeds used\n",
    "### 222 ------ 78%\n",
    "### 999 ------ 79%\n",
    "### 256 ------ 77%\n",
    "### 666 ------ 77%\n",
    "### 365 ------ 79%\n",
    "### 616 ------ 77%\n",
    "### 236 ------ 78%\n",
    "\n",
    "# Best seeds\n",
    "### 231 ------ 80%\n",
    "### 6   ------ 80%\n",
    "### 625 ------ 80%\n",
    "### 265 ------ 80%\n",
    "### 606 ------ 80%\n",
    "\n"
   ]
  },
  {
   "cell_type": "code",
   "execution_count": 4,
   "metadata": {},
   "outputs": [],
   "source": [
    "# Loas database\n",
    "X = pd.read_csv(\"dfx.csv\") # X cotains the features \n",
    "y = pd.read_csv(\"dfy.csv\") # y is the target variable"
   ]
  },
  {
   "cell_type": "code",
   "execution_count": 5,
   "metadata": {},
   "outputs": [],
   "source": [
    "X_train, X_test, y_train, y_test = train_test_split(X, y, test_size=0.2)  # Splits the dataset into training and testing sets\n",
    "# 80% of the data is used for training and 20% for testing"
   ]
  },
  {
   "cell_type": "code",
   "execution_count": 16,
   "metadata": {},
   "outputs": [
    {
     "name": "stderr",
     "output_type": "stream",
     "text": [
      "c:\\Users\\HP\\AppData\\Local\\Programs\\Python\\Python311\\Lib\\site-packages\\sklearn\\utils\\validation.py:1183: DataConversionWarning: A column-vector y was passed when a 1d array was expected. Please change the shape of y to (n_samples, ), for example using ravel().\n",
      "  y = column_or_1d(y, warn=True)\n"
     ]
    },
    {
     "name": "stdout",
     "output_type": "stream",
     "text": [
      "[[88 15]\n",
      " [20 56]]\n",
      "              precision    recall  f1-score   support\n",
      "\n",
      "           0       0.81      0.85      0.83       103\n",
      "           1       0.79      0.74      0.76        76\n",
      "\n",
      "    accuracy                           0.80       179\n",
      "   macro avg       0.80      0.80      0.80       179\n",
      "weighted avg       0.80      0.80      0.80       179\n",
      "\n"
     ]
    }
   ],
   "source": [
    "# Training the algoritm\n",
    "svclassifier = SVC(kernel = 'linear') # hyperparameter used: kernel\n",
    "svclassifier.fit(X_train, y_train)\n",
    "\n",
    "# Predictions\n",
    "y_pred = svclassifier.predict(X_test)\n",
    "\n",
    "# Evaluating the algoritm\n",
    "print(confusion_matrix(y_test,y_pred))\n",
    "print(classification_report(y_test,y_pred))"
   ]
  },
  {
   "cell_type": "code",
   "execution_count": 7,
   "metadata": {},
   "outputs": [
    {
     "name": "stderr",
     "output_type": "stream",
     "text": [
      "c:\\Users\\HP\\AppData\\Local\\Programs\\Python\\Python311\\Lib\\site-packages\\sklearn\\utils\\validation.py:1183: DataConversionWarning: A column-vector y was passed when a 1d array was expected. Please change the shape of y to (n_samples, ), for example using ravel().\n",
      "  y = column_or_1d(y, warn=True)\n"
     ]
    },
    {
     "name": "stdout",
     "output_type": "stream",
     "text": [
      "[[101   2]\n",
      " [ 67   9]]\n",
      "              precision    recall  f1-score   support\n",
      "\n",
      "           0       0.60      0.98      0.75       103\n",
      "           1       0.82      0.12      0.21        76\n",
      "\n",
      "    accuracy                           0.61       179\n",
      "   macro avg       0.71      0.55      0.48       179\n",
      "weighted avg       0.69      0.61      0.52       179\n",
      "\n"
     ]
    }
   ],
   "source": [
    "svclassifier = SVC(kernel ='rbf') # hyperparameter used: kernel\n",
    "svclassifier.fit(X_train, y_train)\n",
    "\n",
    "# Predictions\n",
    "y_pred = svclassifier.predict(X_test)\n",
    "\n",
    "# Evaluating the algoritm\n",
    "print(confusion_matrix(y_test,y_pred))\n",
    "print(classification_report(y_test,y_pred))"
   ]
  },
  {
   "cell_type": "code",
   "execution_count": 8,
   "metadata": {},
   "outputs": [
    {
     "name": "stdout",
     "output_type": "stream",
     "text": [
      "[[70 33]\n",
      " [45 31]]\n",
      "              precision    recall  f1-score   support\n",
      "\n",
      "           0       0.61      0.68      0.64       103\n",
      "           1       0.48      0.41      0.44        76\n",
      "\n",
      "    accuracy                           0.56       179\n",
      "   macro avg       0.55      0.54      0.54       179\n",
      "weighted avg       0.56      0.56      0.56       179\n",
      "\n"
     ]
    },
    {
     "name": "stderr",
     "output_type": "stream",
     "text": [
      "c:\\Users\\HP\\AppData\\Local\\Programs\\Python\\Python311\\Lib\\site-packages\\sklearn\\utils\\validation.py:1183: DataConversionWarning: A column-vector y was passed when a 1d array was expected. Please change the shape of y to (n_samples, ), for example using ravel().\n",
      "  y = column_or_1d(y, warn=True)\n"
     ]
    }
   ],
   "source": [
    "svclassifier = SVC(kernel ='sigmoid') # hyperparameter used: kernel\n",
    "svclassifier.fit(X_train, y_train)\n",
    "\n",
    "# Predictions\n",
    "y_pred = svclassifier.predict(X_test)\n",
    "\n",
    "# Evaluating the algoritm\n",
    "print(confusion_matrix(y_test,y_pred))\n",
    "print(classification_report(y_test,y_pred))"
   ]
  },
  {
   "cell_type": "code",
   "execution_count": 9,
   "metadata": {},
   "outputs": [
    {
     "name": "stdout",
     "output_type": "stream",
     "text": [
      "[[101   2]\n",
      " [ 62  14]]\n",
      "              precision    recall  f1-score   support\n",
      "\n",
      "           0       0.62      0.98      0.76       103\n",
      "           1       0.88      0.18      0.30        76\n",
      "\n",
      "    accuracy                           0.64       179\n",
      "   macro avg       0.75      0.58      0.53       179\n",
      "weighted avg       0.73      0.64      0.57       179\n",
      "\n"
     ]
    },
    {
     "name": "stderr",
     "output_type": "stream",
     "text": [
      "c:\\Users\\HP\\AppData\\Local\\Programs\\Python\\Python311\\Lib\\site-packages\\sklearn\\utils\\validation.py:1183: DataConversionWarning: A column-vector y was passed when a 1d array was expected. Please change the shape of y to (n_samples, ), for example using ravel().\n",
      "  y = column_or_1d(y, warn=True)\n"
     ]
    }
   ],
   "source": [
    "svclassifier = SVC(kernel ='poly') # hyperparameter used: kernel\n",
    "svclassifier.fit(X_train, y_train)\n",
    "\n",
    "# Predictions\n",
    "y_pred = svclassifier.predict(X_test)\n",
    "\n",
    "# Evaluating the algoritm\n",
    "print(confusion_matrix(y_test,y_pred))\n",
    "print(classification_report(y_test,y_pred))"
   ]
  }
 ],
 "metadata": {
  "kernelspec": {
   "display_name": "Python 3",
   "language": "python",
   "name": "python3"
  },
  "language_info": {
   "codemirror_mode": {
    "name": "ipython",
    "version": 3
   },
   "file_extension": ".py",
   "mimetype": "text/x-python",
   "name": "python",
   "nbconvert_exporter": "python",
   "pygments_lexer": "ipython3",
   "version": "3.11.5"
  }
 },
 "nbformat": 4,
 "nbformat_minor": 2
}
