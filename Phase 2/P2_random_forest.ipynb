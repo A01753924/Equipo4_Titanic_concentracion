{
 "cells": [
  {
   "cell_type": "code",
   "execution_count": 72,
   "metadata": {},
   "outputs": [],
   "source": [
    "import pandas as pd\n",
    "import numpy as np \n",
    "import matplotlib.pyplot as plt\n",
    "from sklearn.model_selection import train_test_split\n",
    "from sklearn.preprocessing import StandardScaler\n",
    "from sklearn.ensemble import RandomForestClassifier\n",
    "from sklearn.metrics import accuracy_score, confusion_matrix, ConfusionMatrixDisplay, classification_report\n",
    "import seaborn as sns"
   ]
  },
  {
   "cell_type": "code",
   "execution_count": 73,
   "metadata": {},
   "outputs": [
    {
     "data": {
      "text/plain": [
       "'\\nsd  = Acc, MF1, WF1\\n231 = 0.81, 0.78, 0.81\\n222 = 0.78, 0.76, 0.77\\n185 = 0.82, 0.80, 0.81\\n45 = 0.79, 0.78, 0.80\\n125 = 0.75, 0.77, 0.75\\n555 = 0.82, 0.78, 0.82\\n666 = 0.75, 0.74, 0.75\\n123 = 0.78, 0.76, 0.78\\n569 = 0.75, 0.79, 0.76\\n'"
      ]
     },
     "execution_count": 73,
     "metadata": {},
     "output_type": "execute_result"
    }
   ],
   "source": [
    "import random # Randomness\n",
    "\n",
    "sd = 185\n",
    "random.seed(sd) \n",
    "np.random.seed(sd)\n",
    "\n",
    "'''\n",
    "sd  = Acc, MF1, WF1\n",
    "231 = 0.81, 0.78, 0.81\n",
    "222 = 0.78, 0.76, 0.77\n",
    "185 = 0.82, 0.80, 0.81\n",
    "45 = 0.79, 0.78, 0.80\n",
    "125 = 0.75, 0.77, 0.75\n",
    "555 = 0.82, 0.78, 0.82\n",
    "666 = 0.75, 0.74, 0.75\n",
    "123 = 0.78, 0.76, 0.78\n",
    "569 = 0.75, 0.79, 0.76\n",
    "'''"
   ]
  },
  {
   "cell_type": "code",
   "execution_count": 74,
   "metadata": {},
   "outputs": [
    {
     "data": {
      "image/png": "[encoded data removed]",
      "text/plain": [
       "<Figure size 640x480 with 2 Axes>"
      ]
     },
     "metadata": {},
     "output_type": "display_data"
    },
    {
     "name": "stdout",
     "output_type": "stream",
     "text": [
      "Reporte de Clasificación:\n",
      "              precision    recall  f1-score   support\n",
      "\n",
      "           0       0.85      0.87      0.86       115\n",
      "           1       0.75      0.72      0.74        64\n",
      "\n",
      "    accuracy                           0.82       179\n",
      "   macro avg       0.80      0.79      0.80       179\n",
      "weighted avg       0.81      0.82      0.81       179\n",
      "\n"
     ]
    }
   ],
   "source": [
    "# Import datasets\n",
    "df_X = pd.read_csv(\"dfx.csv\") # Features\n",
    "df_y = pd.read_csv(\"dfy.csv\") # Targets\n",
    "\n",
    "# colum bool -> int\n",
    "for col in df_X.columns:\n",
    "    if df_X[col].dtype == 'bool':\n",
    "        df_X[col] = df_X[col].astype(int)\n",
    "\n",
    "# Split datasets into train and test | 80% train, 20% test\n",
    "X_train, X_test, y_train, y_test = train_test_split(df_X, df_y, test_size=0.2)\n",
    "scaler = StandardScaler()\n",
    "X_train = scaler.fit_transform(X_train)\n",
    "X_test = scaler.fit_transform(X_test)\n",
    "\n",
    "# Initializae and train Random Forest model\n",
    "rfc = RandomForestClassifier(n_estimators=100, criterion='entropy')\n",
    "rfc.fit(X_train, y_train)\n",
    "\n",
    "# Generate prediction\n",
    "y_pred = rfc.predict(X_test) \n",
    "\n",
    "# Confusion matrix\n",
    "cm = confusion_matrix(y_test[\"Survived\"], y_pred[:, 1])\n",
    "disp = ConfusionMatrixDisplay(confusion_matrix=cm,)\n",
    "disp.plot(cmap=plt.cm.Blues)\n",
    "plt.title('Matriz de Confusión')\n",
    "plt.show()\n",
    "\n",
    "# Evaluation Metrics\n",
    "print(\"Reporte de Clasificación:\")\n",
    "print(classification_report(y_test[\"Survived\"], y_pred[:, 1]))\n"
   ]
  }
 ],
 "metadata": {
  "kernelspec": {
   "display_name": "base",
   "language": "python",
   "name": "python3"
  },
  "language_info": {
   "codemirror_mode": {
    "name": "ipython",
    "version": 3
   },
   "file_extension": ".py",
   "mimetype": "text/x-python",
   "name": "python",
   "nbconvert_exporter": "python",
   "pygments_lexer": "ipython3",
   "version": "3.11.2"
  }
 },
 "nbformat": 4,
 "nbformat_minor": 2
}
